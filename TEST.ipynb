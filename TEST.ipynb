{
 "cells": [
  {
   "cell_type": "code",
   "execution_count": 2,
   "metadata": {},
   "outputs": [
    {
     "name": "stderr",
     "output_type": "stream",
     "text": [
      "Global seed set to 0\n",
      "Lightning automatically upgraded your loaded checkpoint from v1.5.10 to v1.9.5. To apply the upgrade to your files permanently, run `python -m pytorch_lightning.utilities.upgrade_checkpoint --file checkpoints/epoch=15-step=193199.ckpt`\n"
     ]
    },
    {
     "name": "stdout",
     "output_type": "stream",
     "text": [
      "Model loaded: checkpoints/epoch=15-step=193199.ckpt\n"
     ]
    }
   ],
   "source": [
    "# VolRecon\n",
    "\n",
    "import argparse\n",
    "from re import I\n",
    "from stat import UF_OPAQUE\n",
    "from tqdm import tqdm\n",
    "import math\n",
    "\n",
    "import torch\n",
    "from torch.utils.data import DataLoader\n",
    "from pytorch_lightning.loggers import WandbLogger\n",
    "import pytorch_lightning as pl\n",
    "from pytorch_lightning import seed_everything\n",
    "from pytorch_lightning.utilities.model_summary import ModelSummary\n",
    "\n",
    "\n",
    "from code.model import VolRecon\n",
    "from code.dataset.dtu_train import MVSDataset\n",
    "from code.dataset.dtu_test_sparse import DtuFitSparse\n",
    "from code.dataset.general_fit import GeneralFit\n",
    "\n",
    "PI = math.pi\n",
    "device = \"cuda\" if torch.cuda.is_available() else \"cpu\"\n",
    "\n",
    "# -------------------------------- main function\n",
    "\n",
    "seed_everything(0, workers=True)    \n",
    "\n",
    "# -------------------------------- args for training and models ---------------------\n",
    "class dummy:\n",
    "    def __init__(self):\n",
    "        self.a=1\n",
    "args = dummy()\n",
    "\n",
    "setattr(args, 'batch_size', 2)\n",
    "setattr(args, 'extract_geometry', True)\n",
    "setattr(args, 'test_general', True)\n",
    "setattr(args, 'test_n_view', 5) #\n",
    "setattr(args, 'test_dir', '../Rectified_colmap')\n",
    "setattr(args, 'load_ckpt', 'checkpoints/epoch=15-step=193199.ckpt')\n",
    "setattr(args, 'train_ray_num',1024)\n",
    "setattr(args, 'lr', 0.0001)\n",
    "setattr(args, 'max_epochs', 16)\n",
    "setattr(args, 'val_only', False)\n",
    "setattr(args, 'volume_reso', 96)\n",
    "setattr(args, 'coarse_sample', 64)\n",
    "setattr(args, 'fine_sample', 64)\n",
    "setattr(args, 'weight_rgb', 1.0)\n",
    "setattr(args, 'weight_depth', 1.0)\n",
    "setattr(args, 'logdir', './checkpoints')\n",
    "setattr(args, 'out_dir', './outputs_g_test') #\n",
    "setattr(args, 'test_ray_num', 400)\n",
    "setattr(args, 'test_sample_coarse', 64)\n",
    "setattr(args, 'test_sample_fine', 64)\n",
    "setattr(args, 'test_coarse_only', False)\n",
    "setattr(args, 'set', 0)\n",
    "setattr(args, 'n_randomly_generated_views', 1)\n",
    "\n",
    "\n",
    "batch_size = args.batch_size\n",
    "num_workers = 12\n",
    "devices = [0]\n",
    "# -------------------------------- dataset ----------------------------------------\n",
    "if not args.extract_geometry:\n",
    "    # training\n",
    "    dtu_dataset_train = MVSDataset(            \n",
    "            root_dir=args.root_dir,\n",
    "            split=\"train\",\n",
    "            split_filepath=\"code/dataset/dtu/lists/train.txt\",\n",
    "            pair_filepath=\"code/dataset/dtu/dtu_pairs.txt\",\n",
    "            n_views=3,\n",
    "            )\n",
    "\n",
    "    dtu_dataset_val = MVSDataset(            \n",
    "            root_dir=args.root_dir,\n",
    "            split=\"test\",\n",
    "            split_filepath=\"code/dataset/dtu/lists/test.txt\",\n",
    "            pair_filepath=\"code/dataset/dtu/dtu_pairs.txt\",\n",
    "            n_views=3,\n",
    "            test_ref_views = [23],  # only use view 23\n",
    "            )\n",
    "\n",
    "    print(\"dtu_dataset_train:\", len(dtu_dataset_train))\n",
    "    print(\"dtu_dataset_val:\", len(dtu_dataset_val))\n",
    "\n",
    "    dataloader_train = DataLoader(dtu_dataset_train,\n",
    "                                    batch_size=batch_size, \n",
    "                                    num_workers=num_workers, \n",
    "                                    shuffle=True)  \n",
    "    dataloader_val = DataLoader(dtu_dataset_val,\n",
    "                                    batch_size=batch_size, \n",
    "                                    num_workers=num_workers, \n",
    "                                    shuffle=False)  \n",
    "else:\n",
    "    dataloader_test = []\n",
    "    # dtu, 15 test scenes\n",
    "    if not args.test_general:\n",
    "        for scan in [24, 37, 40, 55, 63, 65, 69, 83, 97, 105, 106, 110, 114, 118, 122]:\n",
    "            \n",
    "            dataset_tmp = DtuFitSparse(root_dir=args.test_dir, \n",
    "                                split=\"test\", \n",
    "                                scan_id='scan%d'%scan, \n",
    "                                n_views=args.test_n_view,\n",
    "                                set=args.set)\n",
    "            dataloader_tmp = DataLoader(dataset_tmp,\n",
    "                                            batch_size=1, \n",
    "                                            num_workers=1, \n",
    "                                            shuffle=False)  \n",
    "            dataloader_test.append(dataloader_tmp)\n",
    "    else:\n",
    "        for scan in [\"scan1\"]:\n",
    "            \n",
    "            dataset_tmp = GeneralFit(root_dir=args.test_dir, \n",
    "                                scan_id=scan, \n",
    "                                n_views=args.test_n_view,\n",
    "                                n_randomly_generated_views=args.n_randomly_generated_views)\n",
    "            dataloader_tmp = DataLoader(dataset_tmp,\n",
    "                                            batch_size=1, \n",
    "                                            num_workers=1, \n",
    "                                            shuffle=False)  \n",
    "            dataloader_test.append(dataloader_tmp)\n",
    "\n",
    "# -------------------------------- lightning module -------------------------------\n",
    "if args.load_ckpt:\n",
    "    volrecon = VolRecon.load_from_checkpoint(checkpoint_path=args.load_ckpt, args=args)\n",
    "    print(\"Model loaded:\", args.load_ckpt)\n",
    "    for param in volrecon.parameters():\n",
    "        param.requires_grad = False\n",
    "else:\n",
    "    volrecon = VolRecon(args)\n",
    "\n",
    "\n",
    "\n"
   ]
  },
  {
   "cell_type": "code",
   "execution_count": 3,
   "metadata": {},
   "outputs": [],
   "source": [
    "import numpy as np"
   ]
  },
  {
   "cell_type": "code",
   "execution_count": 4,
   "metadata": {},
   "outputs": [],
   "source": [
    "item = dataset_tmp[0]\n",
    "ref_img = item['ref_img']\n",
    "source_imgs = item['source_imgs']\n",
    "meta = item['meta']"
   ]
  },
  {
   "cell_type": "code",
   "execution_count": 5,
   "metadata": {},
   "outputs": [
    {
     "data": {
      "text/plain": [
       "torch.Size([3, 600, 800])"
      ]
     },
     "execution_count": 5,
     "metadata": {},
     "output_type": "execute_result"
    }
   ],
   "source": [
    "ref_img.shape"
   ]
  },
  {
   "cell_type": "code",
   "execution_count": 6,
   "metadata": {},
   "outputs": [
    {
     "data": {
      "text/plain": [
       "torch.Size([5, 3, 600, 800])"
      ]
     },
     "execution_count": 6,
     "metadata": {},
     "output_type": "execute_result"
    }
   ],
   "source": [
    "source_imgs.size()"
   ]
  },
  {
   "cell_type": "code",
   "execution_count": 7,
   "metadata": {},
   "outputs": [
    {
     "data": {
      "text/plain": [
       "0.0"
      ]
     },
     "execution_count": 7,
     "metadata": {},
     "output_type": "execute_result"
    }
   ],
   "source": [
    "np.linalg.norm(ref_img-source_imgs[0].numpy(force=True))"
   ]
  },
  {
   "attachments": {},
   "cell_type": "markdown",
   "metadata": {},
   "source": [
    "This shows that the first source image is the same as the reference image, in the following we see how much the quality is affected when we change this. <br>\n",
    "First we generate a random view with the current code"
   ]
  },
  {
   "cell_type": "code",
   "execution_count": 8,
   "metadata": {},
   "outputs": [
    {
     "name": "stderr",
     "output_type": "stream",
     "text": [
      "GPU available: True (cuda), used: True\n",
      "TPU available: False, using: 0 TPU cores\n",
      "IPU available: False, using: 0 IPUs\n",
      "HPU available: False, using: 0 HPUs\n"
     ]
    },
    {
     "name": "stderr",
     "output_type": "stream",
     "text": [
      "  0%|          | 0/1 [00:00<?, ?it/s]You are using a CUDA device ('NVIDIA RTX A4000') that has Tensor Cores. To properly utilize them, you should set `torch.set_float32_matmul_precision('medium' | 'high')` which will trade-off precision for performance. For more details, read https://pytorch.org/docs/stable/generated/torch.set_float32_matmul_precision.html#torch.set_float32_matmul_precision\n",
      "LOCAL_RANK: 0 - CUDA_VISIBLE_DEVICES: [0]\n",
      "/home/rozenberszki/.local/lib/python3.8/site-packages/pytorch_lightning/trainer/connectors/data_connector.py:224: PossibleUserWarning: The dataloader, val_dataloader 0, does not have many workers which may be a bottleneck. Consider increasing the value of the `num_workers` argument` (try 16 which is the number of cpus on this machine) in the `DataLoader` init to improve performance.\n",
      "  rank_zero_warn(\n"
     ]
    },
    {
     "data": {
      "application/vnd.jupyter.widget-view+json": {
       "model_id": "7c0ad6c096be4667809900a35ce26037",
       "version_major": 2,
       "version_minor": 0
      },
      "text/plain": [
       "Validation: 0it [00:00, ?it/s]"
      ]
     },
     "metadata": {},
     "output_type": "display_data"
    },
    {
     "name": "stdout",
     "output_type": "stream",
     "text": [
      "start extracting geometry\n"
     ]
    },
    {
     "name": "stderr",
     "output_type": "stream",
     "text": [
      "/home/rozenberszki/.local/lib/python3.8/site-packages/torch/nn/functional.py:4227: UserWarning: Default grid_sample and affine_grid behavior has changed to align_corners=False since 1.3.0. Please specify align_corners=True if the old behavior is desired. See the documentation of grid_sample for details.\n",
      "  warnings.warn(\n"
     ]
    },
    {
     "name": "stdout",
     "output_type": "stream",
     "text": [
      "1 1\n",
      "2 2\n",
      "3 3\n",
      "4 4\n",
      "5 5\n"
     ]
    },
    {
     "name": "stderr",
     "output_type": "stream",
     "text": []
    },
    {
     "name": "stdout",
     "output_type": "stream",
     "text": [
      "6 6\n",
      "7 7\n",
      "8 8\n",
      "9 9\n",
      "10 10\n"
     ]
    },
    {
     "name": "stderr",
     "output_type": "stream",
     "text": []
    },
    {
     "name": "stdout",
     "output_type": "stream",
     "text": [
      "11 11\n",
      "12 12\n",
      "13 13\n",
      "14 14\n",
      "15 15\n"
     ]
    },
    {
     "name": "stderr",
     "output_type": "stream",
     "text": []
    },
    {
     "name": "stdout",
     "output_type": "stream",
     "text": [
      "16 16\n",
      "17 17\n",
      "18 18\n",
      "19 19\n",
      "20 20\n"
     ]
    },
    {
     "name": "stderr",
     "output_type": "stream",
     "text": []
    },
    {
     "name": "stdout",
     "output_type": "stream",
     "text": [
      "21 21\n",
      "22 22\n",
      "23 23\n",
      "24 24\n",
      "25 25\n"
     ]
    },
    {
     "name": "stderr",
     "output_type": "stream",
     "text": []
    },
    {
     "name": "stdout",
     "output_type": "stream",
     "text": [
      "26 26\n",
      "27 27\n",
      "28 28\n",
      "29 29\n",
      "30 30\n"
     ]
    },
    {
     "name": "stderr",
     "output_type": "stream",
     "text": []
    },
    {
     "name": "stdout",
     "output_type": "stream",
     "text": [
      "31 31\n",
      "32 32\n",
      "33 33\n",
      "34 34\n",
      "35 35\n"
     ]
    },
    {
     "name": "stderr",
     "output_type": "stream",
     "text": []
    },
    {
     "name": "stdout",
     "output_type": "stream",
     "text": [
      "36 36\n",
      "37 37\n",
      "38 38\n",
      "39 39\n",
      "40 40\n"
     ]
    },
    {
     "name": "stderr",
     "output_type": "stream",
     "text": []
    },
    {
     "name": "stdout",
     "output_type": "stream",
     "text": [
      "41 41\n",
      "42 42\n",
      "43 43\n",
      "44 44\n",
      "45 45\n"
     ]
    },
    {
     "name": "stderr",
     "output_type": "stream",
     "text": []
    },
    {
     "name": "stdout",
     "output_type": "stream",
     "text": [
      "46 46\n",
      "47 47\n",
      "48 48\n",
      "49 49\n",
      "50 50\n"
     ]
    },
    {
     "name": "stderr",
     "output_type": "stream",
     "text": []
    },
    {
     "name": "stdout",
     "output_type": "stream",
     "text": [
      "51 51\n",
      "52 52\n",
      "53 53\n",
      "54 54\n",
      "55 55\n"
     ]
    },
    {
     "name": "stderr",
     "output_type": "stream",
     "text": []
    },
    {
     "name": "stdout",
     "output_type": "stream",
     "text": [
      "56 56\n",
      "57 57\n",
      "58 58\n",
      "59 59\n",
      "60 60\n"
     ]
    },
    {
     "name": "stderr",
     "output_type": "stream",
     "text": []
    },
    {
     "name": "stdout",
     "output_type": "stream",
     "text": [
      "61 61\n",
      "62 62\n",
      "63 63\n",
      "64 64\n",
      "65 65\n"
     ]
    },
    {
     "name": "stderr",
     "output_type": "stream",
     "text": []
    },
    {
     "name": "stdout",
     "output_type": "stream",
     "text": [
      "66 66\n",
      "67 67\n",
      "68 68\n",
      "69 69\n",
      "70 70\n"
     ]
    },
    {
     "name": "stderr",
     "output_type": "stream",
     "text": []
    },
    {
     "name": "stdout",
     "output_type": "stream",
     "text": [
      "71 71\n",
      "72 72\n",
      "73 73\n",
      "74 74\n",
      "75 75\n"
     ]
    },
    {
     "name": "stderr",
     "output_type": "stream",
     "text": []
    },
    {
     "name": "stdout",
     "output_type": "stream",
     "text": [
      "76 76\n",
      "77 77\n",
      "78 78\n",
      "79 79\n",
      "80 80\n"
     ]
    },
    {
     "name": "stderr",
     "output_type": "stream",
     "text": []
    },
    {
     "name": "stdout",
     "output_type": "stream",
     "text": [
      "81 81\n",
      "82 82\n",
      "83 83\n",
      "84 84\n",
      "85 85\n"
     ]
    },
    {
     "name": "stderr",
     "output_type": "stream",
     "text": []
    },
    {
     "name": "stdout",
     "output_type": "stream",
     "text": [
      "86 86\n",
      "87 87\n",
      "88 88\n",
      "89 89\n",
      "90 90\n"
     ]
    },
    {
     "name": "stderr",
     "output_type": "stream",
     "text": []
    },
    {
     "name": "stdout",
     "output_type": "stream",
     "text": [
      "91 91\n",
      "92 92\n",
      "93 93\n",
      "94 94\n",
      "95 95\n"
     ]
    },
    {
     "name": "stderr",
     "output_type": "stream",
     "text": []
    },
    {
     "name": "stdout",
     "output_type": "stream",
     "text": [
      "96 96\n",
      "97 97\n",
      "98 98\n",
      "99 99\n",
      "100 100\n"
     ]
    },
    {
     "name": "stderr",
     "output_type": "stream",
     "text": []
    },
    {
     "name": "stdout",
     "output_type": "stream",
     "text": [
      "101 101\n",
      "102 102\n",
      "103 103\n",
      "104 104\n",
      "105 105\n"
     ]
    },
    {
     "name": "stderr",
     "output_type": "stream",
     "text": []
    },
    {
     "name": "stdout",
     "output_type": "stream",
     "text": [
      "106 106\n",
      "107 107\n",
      "108 108\n",
      "109 109\n",
      "110 110\n"
     ]
    },
    {
     "name": "stderr",
     "output_type": "stream",
     "text": []
    },
    {
     "name": "stdout",
     "output_type": "stream",
     "text": [
      "111 111\n",
      "112 112\n",
      "113 113\n",
      "114 114\n",
      "115 115\n"
     ]
    },
    {
     "name": "stderr",
     "output_type": "stream",
     "text": []
    },
    {
     "name": "stdout",
     "output_type": "stream",
     "text": [
      "116 116\n",
      "117 117\n",
      "118 118\n",
      "119 119\n",
      "120 120\n"
     ]
    },
    {
     "name": "stderr",
     "output_type": "stream",
     "text": []
    },
    {
     "name": "stdout",
     "output_type": "stream",
     "text": [
      "121 121\n",
      "122 122\n",
      "123 123\n",
      "124 124\n",
      "125 125\n"
     ]
    },
    {
     "name": "stderr",
     "output_type": "stream",
     "text": []
    },
    {
     "name": "stdout",
     "output_type": "stream",
     "text": [
      "126 126\n",
      "127 127\n",
      "128 128\n",
      "129 129\n",
      "130 130\n"
     ]
    },
    {
     "name": "stderr",
     "output_type": "stream",
     "text": []
    },
    {
     "name": "stdout",
     "output_type": "stream",
     "text": [
      "131 131\n",
      "132 132\n",
      "133 133\n",
      "134 134\n",
      "135 135\n"
     ]
    },
    {
     "name": "stderr",
     "output_type": "stream",
     "text": []
    },
    {
     "name": "stdout",
     "output_type": "stream",
     "text": [
      "136 136\n",
      "137 137\n",
      "138 138\n",
      "139 139\n",
      "140 140\n"
     ]
    },
    {
     "name": "stderr",
     "output_type": "stream",
     "text": []
    },
    {
     "name": "stdout",
     "output_type": "stream",
     "text": [
      "141 141\n",
      "142 142\n",
      "143 143\n",
      "144 144\n",
      "145 145\n"
     ]
    },
    {
     "name": "stderr",
     "output_type": "stream",
     "text": []
    },
    {
     "name": "stdout",
     "output_type": "stream",
     "text": [
      "146 146\n",
      "147 147\n",
      "148 148\n",
      "149 149\n",
      "150 150\n"
     ]
    },
    {
     "name": "stderr",
     "output_type": "stream",
     "text": []
    },
    {
     "name": "stdout",
     "output_type": "stream",
     "text": [
      "151 151\n",
      "152 152\n",
      "153 153\n",
      "154 154\n",
      "155 155\n"
     ]
    },
    {
     "name": "stderr",
     "output_type": "stream",
     "text": []
    },
    {
     "name": "stdout",
     "output_type": "stream",
     "text": [
      "156 156\n",
      "157 157\n",
      "158 158\n",
      "159 159\n",
      "160 160\n"
     ]
    },
    {
     "name": "stderr",
     "output_type": "stream",
     "text": []
    },
    {
     "name": "stdout",
     "output_type": "stream",
     "text": [
      "161 161\n",
      "162 162\n",
      "163 163\n",
      "164 164\n",
      "165 165\n"
     ]
    },
    {
     "name": "stderr",
     "output_type": "stream",
     "text": []
    },
    {
     "name": "stdout",
     "output_type": "stream",
     "text": [
      "166 166\n",
      "167 167\n",
      "168 168\n",
      "169 169\n",
      "170 170\n"
     ]
    },
    {
     "name": "stderr",
     "output_type": "stream",
     "text": []
    },
    {
     "name": "stdout",
     "output_type": "stream",
     "text": [
      "171 171\n",
      "172 172\n",
      "173 173\n",
      "174 174\n",
      "175 175\n"
     ]
    },
    {
     "name": "stderr",
     "output_type": "stream",
     "text": []
    },
    {
     "name": "stdout",
     "output_type": "stream",
     "text": [
      "176 176\n",
      "177 177\n",
      "178 178\n",
      "179 179\n",
      "180 180\n"
     ]
    },
    {
     "name": "stderr",
     "output_type": "stream",
     "text": []
    },
    {
     "name": "stdout",
     "output_type": "stream",
     "text": [
      "181 181\n",
      "182 182\n",
      "183 183\n",
      "184 184\n",
      "185 185\n"
     ]
    },
    {
     "name": "stderr",
     "output_type": "stream",
     "text": []
    },
    {
     "name": "stdout",
     "output_type": "stream",
     "text": [
      "186 186\n",
      "187 187\n",
      "188 188\n",
      "189 189\n",
      "190 190\n"
     ]
    },
    {
     "name": "stderr",
     "output_type": "stream",
     "text": []
    },
    {
     "name": "stdout",
     "output_type": "stream",
     "text": [
      "191 191\n",
      "192 192\n",
      "193 193\n",
      "194 194\n",
      "195 195\n"
     ]
    },
    {
     "name": "stderr",
     "output_type": "stream",
     "text": []
    },
    {
     "name": "stdout",
     "output_type": "stream",
     "text": [
      "196 196\n",
      "197 197\n",
      "198 198\n",
      "199 199\n",
      "200 200\n"
     ]
    },
    {
     "name": "stderr",
     "output_type": "stream",
     "text": []
    },
    {
     "name": "stdout",
     "output_type": "stream",
     "text": [
      "201 201\n",
      "202 202\n",
      "203 203\n",
      "204 204\n",
      "205 205\n"
     ]
    },
    {
     "name": "stderr",
     "output_type": "stream",
     "text": []
    },
    {
     "name": "stdout",
     "output_type": "stream",
     "text": [
      "206 206\n",
      "207 207\n",
      "208 208\n",
      "209 209\n",
      "210 210\n"
     ]
    },
    {
     "name": "stderr",
     "output_type": "stream",
     "text": []
    },
    {
     "name": "stdout",
     "output_type": "stream",
     "text": [
      "211 211\n",
      "212 212\n",
      "213 213\n",
      "214 214\n",
      "215 215\n"
     ]
    },
    {
     "name": "stderr",
     "output_type": "stream",
     "text": []
    },
    {
     "name": "stdout",
     "output_type": "stream",
     "text": [
      "216 216\n",
      "217 217\n",
      "218 218\n",
      "219 219\n",
      "220 220\n"
     ]
    },
    {
     "name": "stderr",
     "output_type": "stream",
     "text": []
    },
    {
     "name": "stdout",
     "output_type": "stream",
     "text": [
      "221 221\n",
      "222 222\n",
      "223 223\n",
      "224 224\n",
      "225 225\n"
     ]
    },
    {
     "name": "stderr",
     "output_type": "stream",
     "text": []
    },
    {
     "name": "stdout",
     "output_type": "stream",
     "text": [
      "226 226\n",
      "227 227\n",
      "228 228\n",
      "229 229\n",
      "230 230\n"
     ]
    },
    {
     "name": "stderr",
     "output_type": "stream",
     "text": []
    },
    {
     "name": "stdout",
     "output_type": "stream",
     "text": [
      "231 231\n",
      "232 232\n",
      "233 233\n",
      "234 234\n",
      "235 235\n"
     ]
    },
    {
     "name": "stderr",
     "output_type": "stream",
     "text": []
    },
    {
     "name": "stdout",
     "output_type": "stream",
     "text": [
      "236 236\n",
      "237 237\n",
      "238 238\n",
      "239 239\n",
      "240 240\n"
     ]
    },
    {
     "name": "stderr",
     "output_type": "stream",
     "text": []
    },
    {
     "name": "stdout",
     "output_type": "stream",
     "text": [
      "241 241\n",
      "242 242\n",
      "243 243\n",
      "244 244\n",
      "245 245\n"
     ]
    },
    {
     "name": "stderr",
     "output_type": "stream",
     "text": []
    },
    {
     "name": "stdout",
     "output_type": "stream",
     "text": [
      "246 246\n",
      "247 247\n",
      "248 248\n",
      "249 249\n",
      "250 250\n"
     ]
    },
    {
     "name": "stderr",
     "output_type": "stream",
     "text": []
    },
    {
     "name": "stdout",
     "output_type": "stream",
     "text": [
      "251 251\n",
      "252 252\n",
      "253 253\n",
      "254 254\n",
      "255 255\n"
     ]
    },
    {
     "name": "stderr",
     "output_type": "stream",
     "text": []
    },
    {
     "name": "stdout",
     "output_type": "stream",
     "text": [
      "256 256\n",
      "257 257\n",
      "258 258\n",
      "259 259\n",
      "260 260\n"
     ]
    },
    {
     "name": "stderr",
     "output_type": "stream",
     "text": []
    },
    {
     "name": "stdout",
     "output_type": "stream",
     "text": [
      "261 261\n",
      "262 262\n",
      "263 263\n",
      "264 264\n",
      "265 265\n"
     ]
    },
    {
     "name": "stderr",
     "output_type": "stream",
     "text": []
    },
    {
     "name": "stdout",
     "output_type": "stream",
     "text": [
      "266 266\n",
      "267 267\n",
      "268 268\n",
      "269 269\n",
      "270 270\n"
     ]
    },
    {
     "name": "stderr",
     "output_type": "stream",
     "text": []
    },
    {
     "name": "stdout",
     "output_type": "stream",
     "text": [
      "271 271\n",
      "272 272\n",
      "273 273\n",
      "274 274\n",
      "275 275\n"
     ]
    },
    {
     "name": "stderr",
     "output_type": "stream",
     "text": []
    },
    {
     "name": "stdout",
     "output_type": "stream",
     "text": [
      "276 276\n",
      "277 277\n",
      "278 278\n",
      "279 279\n",
      "280 280\n"
     ]
    },
    {
     "name": "stderr",
     "output_type": "stream",
     "text": []
    },
    {
     "name": "stdout",
     "output_type": "stream",
     "text": [
      "281 281\n",
      "282 282\n",
      "283 283\n",
      "284 284\n",
      "285 285\n"
     ]
    },
    {
     "name": "stderr",
     "output_type": "stream",
     "text": []
    },
    {
     "name": "stdout",
     "output_type": "stream",
     "text": [
      "286 286\n",
      "287 287\n",
      "288 288\n",
      "289 289\n",
      "290 290\n"
     ]
    },
    {
     "name": "stderr",
     "output_type": "stream",
     "text": []
    },
    {
     "name": "stdout",
     "output_type": "stream",
     "text": [
      "291 291\n",
      "292 292\n",
      "293 293\n",
      "294 294\n",
      "295 295\n"
     ]
    },
    {
     "name": "stderr",
     "output_type": "stream",
     "text": []
    },
    {
     "name": "stdout",
     "output_type": "stream",
     "text": [
      "296 296\n",
      "297 297\n",
      "298 298\n",
      "299 299\n",
      "300 300\n"
     ]
    },
    {
     "name": "stderr",
     "output_type": "stream",
     "text": []
    },
    {
     "name": "stdout",
     "output_type": "stream",
     "text": [
      "301 301\n",
      "302 302\n",
      "303 303\n",
      "304 304\n",
      "305 305\n"
     ]
    },
    {
     "name": "stderr",
     "output_type": "stream",
     "text": []
    },
    {
     "name": "stdout",
     "output_type": "stream",
     "text": [
      "306 306\n",
      "307 307\n",
      "308 308\n",
      "309 309\n",
      "310 310\n"
     ]
    },
    {
     "name": "stderr",
     "output_type": "stream",
     "text": []
    },
    {
     "name": "stdout",
     "output_type": "stream",
     "text": [
      "311 311\n",
      "312 312\n",
      "313 313\n",
      "314 314\n",
      "315 315\n"
     ]
    },
    {
     "name": "stderr",
     "output_type": "stream",
     "text": []
    },
    {
     "name": "stdout",
     "output_type": "stream",
     "text": [
      "316 316\n",
      "317 317\n",
      "318 318\n",
      "319 319\n",
      "320 320\n"
     ]
    },
    {
     "name": "stderr",
     "output_type": "stream",
     "text": []
    },
    {
     "name": "stdout",
     "output_type": "stream",
     "text": [
      "321 321\n",
      "322 322\n",
      "323 323\n",
      "324 324\n",
      "325 325\n"
     ]
    },
    {
     "name": "stderr",
     "output_type": "stream",
     "text": []
    },
    {
     "name": "stdout",
     "output_type": "stream",
     "text": [
      "326 326\n",
      "327 327\n",
      "328 328\n",
      "329 329\n",
      "330 330\n"
     ]
    },
    {
     "name": "stderr",
     "output_type": "stream",
     "text": []
    },
    {
     "name": "stdout",
     "output_type": "stream",
     "text": [
      "331 331\n",
      "332 332\n",
      "333 333\n",
      "334 334\n",
      "335 335\n"
     ]
    },
    {
     "name": "stderr",
     "output_type": "stream",
     "text": []
    },
    {
     "name": "stdout",
     "output_type": "stream",
     "text": [
      "336 336\n",
      "337 337\n",
      "338 338\n",
      "339 339\n",
      "340 340\n"
     ]
    },
    {
     "name": "stderr",
     "output_type": "stream",
     "text": []
    },
    {
     "name": "stdout",
     "output_type": "stream",
     "text": [
      "341 341\n",
      "342 342\n",
      "343 343\n",
      "344 344\n",
      "345 345\n"
     ]
    },
    {
     "name": "stderr",
     "output_type": "stream",
     "text": []
    },
    {
     "name": "stdout",
     "output_type": "stream",
     "text": [
      "346 346\n",
      "347 347\n",
      "348 348\n",
      "349 349\n",
      "350 350\n"
     ]
    },
    {
     "name": "stderr",
     "output_type": "stream",
     "text": []
    },
    {
     "name": "stdout",
     "output_type": "stream",
     "text": [
      "351 351\n",
      "352 352\n",
      "353 353\n",
      "354 354\n",
      "355 355\n"
     ]
    },
    {
     "name": "stderr",
     "output_type": "stream",
     "text": []
    },
    {
     "name": "stdout",
     "output_type": "stream",
     "text": [
      "356 356\n",
      "357 357\n",
      "358 358\n",
      "359 359\n",
      "360 360\n"
     ]
    },
    {
     "name": "stderr",
     "output_type": "stream",
     "text": []
    },
    {
     "name": "stdout",
     "output_type": "stream",
     "text": [
      "361 361\n",
      "362 362\n",
      "363 363\n",
      "364 364\n",
      "365 365\n"
     ]
    },
    {
     "name": "stderr",
     "output_type": "stream",
     "text": []
    },
    {
     "name": "stdout",
     "output_type": "stream",
     "text": [
      "366 366\n",
      "367 367\n",
      "368 368\n",
      "369 369\n",
      "370 370\n"
     ]
    },
    {
     "name": "stderr",
     "output_type": "stream",
     "text": []
    },
    {
     "name": "stdout",
     "output_type": "stream",
     "text": [
      "371 371\n",
      "372 372\n",
      "373 373\n",
      "374 374\n",
      "375 375\n"
     ]
    },
    {
     "name": "stderr",
     "output_type": "stream",
     "text": []
    },
    {
     "name": "stdout",
     "output_type": "stream",
     "text": [
      "376 376\n",
      "377 377\n",
      "378 378\n",
      "379 379\n",
      "380 380\n"
     ]
    },
    {
     "name": "stderr",
     "output_type": "stream",
     "text": []
    },
    {
     "name": "stdout",
     "output_type": "stream",
     "text": [
      "381 381\n",
      "382 382\n",
      "383 383\n",
      "384 384\n",
      "385 385\n"
     ]
    },
    {
     "name": "stderr",
     "output_type": "stream",
     "text": []
    },
    {
     "name": "stdout",
     "output_type": "stream",
     "text": [
      "386 386\n",
      "387 387\n",
      "388 388\n",
      "389 389\n",
      "390 390\n"
     ]
    },
    {
     "name": "stderr",
     "output_type": "stream",
     "text": []
    },
    {
     "name": "stdout",
     "output_type": "stream",
     "text": [
      "391 391\n",
      "392 392\n",
      "393 393\n",
      "394 394\n",
      "395 395\n"
     ]
    },
    {
     "name": "stderr",
     "output_type": "stream",
     "text": []
    },
    {
     "name": "stdout",
     "output_type": "stream",
     "text": [
      "396 396\n",
      "397 397\n",
      "398 398\n",
      "399 399\n",
      "400 400\n"
     ]
    },
    {
     "name": "stderr",
     "output_type": "stream",
     "text": []
    },
    {
     "name": "stdout",
     "output_type": "stream",
     "text": [
      "401 401\n",
      "402 402\n",
      "403 403\n",
      "404 404\n",
      "405 405\n"
     ]
    },
    {
     "name": "stderr",
     "output_type": "stream",
     "text": []
    },
    {
     "name": "stdout",
     "output_type": "stream",
     "text": [
      "406 406\n",
      "407 407\n",
      "408 408\n",
      "409 409\n",
      "410 410\n"
     ]
    },
    {
     "name": "stderr",
     "output_type": "stream",
     "text": []
    },
    {
     "name": "stdout",
     "output_type": "stream",
     "text": [
      "411 411\n",
      "412 412\n",
      "413 413\n",
      "414 414\n",
      "415 415\n"
     ]
    },
    {
     "name": "stderr",
     "output_type": "stream",
     "text": []
    },
    {
     "name": "stdout",
     "output_type": "stream",
     "text": [
      "416 416\n",
      "417 417\n",
      "418 418\n",
      "419 419\n",
      "420 420\n"
     ]
    },
    {
     "name": "stderr",
     "output_type": "stream",
     "text": []
    },
    {
     "name": "stdout",
     "output_type": "stream",
     "text": [
      "421 421\n",
      "422 422\n",
      "423 423\n",
      "424 424\n",
      "425 425\n"
     ]
    },
    {
     "name": "stderr",
     "output_type": "stream",
     "text": []
    },
    {
     "name": "stdout",
     "output_type": "stream",
     "text": [
      "426 426\n",
      "427 427\n",
      "428 428\n",
      "429 429\n",
      "430 430\n"
     ]
    },
    {
     "name": "stderr",
     "output_type": "stream",
     "text": []
    },
    {
     "name": "stdout",
     "output_type": "stream",
     "text": [
      "431 431\n",
      "432 432\n",
      "433 433\n",
      "434 434\n",
      "435 435\n"
     ]
    },
    {
     "name": "stderr",
     "output_type": "stream",
     "text": []
    },
    {
     "name": "stdout",
     "output_type": "stream",
     "text": [
      "436 436\n",
      "437 437\n",
      "438 438\n",
      "439 439\n",
      "440 440\n"
     ]
    },
    {
     "name": "stderr",
     "output_type": "stream",
     "text": []
    },
    {
     "name": "stdout",
     "output_type": "stream",
     "text": [
      "441 441\n",
      "442 442\n",
      "443 443\n",
      "444 444\n",
      "445 445\n"
     ]
    },
    {
     "name": "stderr",
     "output_type": "stream",
     "text": []
    },
    {
     "name": "stdout",
     "output_type": "stream",
     "text": [
      "446 446\n",
      "447 447\n",
      "448 448\n",
      "449 449\n",
      "450 450\n"
     ]
    },
    {
     "name": "stderr",
     "output_type": "stream",
     "text": []
    },
    {
     "name": "stdout",
     "output_type": "stream",
     "text": [
      "451 451\n",
      "452 452\n",
      "453 453\n",
      "454 454\n",
      "455 455\n"
     ]
    },
    {
     "name": "stderr",
     "output_type": "stream",
     "text": []
    },
    {
     "name": "stdout",
     "output_type": "stream",
     "text": [
      "456 456\n",
      "457 457\n",
      "458 458\n",
      "459 459\n",
      "460 460\n"
     ]
    },
    {
     "name": "stderr",
     "output_type": "stream",
     "text": []
    },
    {
     "name": "stdout",
     "output_type": "stream",
     "text": [
      "461 461\n",
      "462 462\n",
      "463 463\n",
      "464 464\n",
      "465 465\n"
     ]
    },
    {
     "name": "stderr",
     "output_type": "stream",
     "text": []
    },
    {
     "name": "stdout",
     "output_type": "stream",
     "text": [
      "466 466\n",
      "467 467\n",
      "468 468\n",
      "469 469\n",
      "470 470\n"
     ]
    },
    {
     "name": "stderr",
     "output_type": "stream",
     "text": []
    },
    {
     "name": "stdout",
     "output_type": "stream",
     "text": [
      "471 471\n",
      "472 472\n",
      "473 473\n",
      "474 474\n",
      "475 475\n"
     ]
    },
    {
     "name": "stderr",
     "output_type": "stream",
     "text": []
    },
    {
     "name": "stdout",
     "output_type": "stream",
     "text": [
      "476 476\n",
      "477 477\n",
      "478 478\n",
      "479 479\n",
      "480 480\n"
     ]
    },
    {
     "name": "stderr",
     "output_type": "stream",
     "text": []
    },
    {
     "name": "stdout",
     "output_type": "stream",
     "text": [
      "481 481\n",
      "482 482\n",
      "483 483\n",
      "484 484\n",
      "485 485\n"
     ]
    },
    {
     "name": "stderr",
     "output_type": "stream",
     "text": []
    },
    {
     "name": "stdout",
     "output_type": "stream",
     "text": [
      "486 486\n",
      "487 487\n",
      "488 488\n",
      "489 489\n",
      "490 490\n"
     ]
    },
    {
     "name": "stderr",
     "output_type": "stream",
     "text": []
    },
    {
     "name": "stdout",
     "output_type": "stream",
     "text": [
      "491 491\n",
      "492 492\n",
      "493 493\n",
      "494 494\n",
      "495 495\n"
     ]
    },
    {
     "name": "stderr",
     "output_type": "stream",
     "text": []
    },
    {
     "name": "stdout",
     "output_type": "stream",
     "text": [
      "496 496\n",
      "497 497\n",
      "498 498\n",
      "499 499\n",
      "500 500\n"
     ]
    },
    {
     "name": "stderr",
     "output_type": "stream",
     "text": []
    },
    {
     "name": "stdout",
     "output_type": "stream",
     "text": [
      "501 501\n",
      "502 502\n",
      "503 503\n",
      "504 504\n",
      "505 505\n"
     ]
    },
    {
     "name": "stderr",
     "output_type": "stream",
     "text": []
    },
    {
     "name": "stdout",
     "output_type": "stream",
     "text": [
      "506 506\n",
      "507 507\n",
      "508 508\n",
      "509 509\n",
      "510 510\n"
     ]
    },
    {
     "name": "stderr",
     "output_type": "stream",
     "text": []
    },
    {
     "name": "stdout",
     "output_type": "stream",
     "text": [
      "511 511\n",
      "512 512\n",
      "513 513\n",
      "514 514\n",
      "515 515\n"
     ]
    },
    {
     "name": "stderr",
     "output_type": "stream",
     "text": []
    },
    {
     "name": "stdout",
     "output_type": "stream",
     "text": [
      "516 516\n",
      "517 517\n",
      "518 518\n",
      "519 519\n",
      "520 520\n"
     ]
    },
    {
     "name": "stderr",
     "output_type": "stream",
     "text": []
    },
    {
     "name": "stdout",
     "output_type": "stream",
     "text": [
      "521 521\n",
      "522 522\n",
      "523 523\n",
      "524 524\n",
      "525 525\n"
     ]
    },
    {
     "name": "stderr",
     "output_type": "stream",
     "text": []
    },
    {
     "name": "stdout",
     "output_type": "stream",
     "text": [
      "526 526\n",
      "527 527\n",
      "528 528\n",
      "529 529\n",
      "530 530\n"
     ]
    },
    {
     "name": "stderr",
     "output_type": "stream",
     "text": []
    },
    {
     "name": "stdout",
     "output_type": "stream",
     "text": [
      "531 531\n",
      "532 532\n",
      "533 533\n",
      "534 534\n",
      "535 535\n"
     ]
    },
    {
     "name": "stderr",
     "output_type": "stream",
     "text": []
    },
    {
     "name": "stdout",
     "output_type": "stream",
     "text": [
      "536 536\n",
      "537 537\n",
      "538 538\n",
      "539 539\n",
      "540 540\n"
     ]
    },
    {
     "name": "stderr",
     "output_type": "stream",
     "text": []
    },
    {
     "name": "stdout",
     "output_type": "stream",
     "text": [
      "541 541\n",
      "542 542\n",
      "543 543\n",
      "544 544\n",
      "545 545\n"
     ]
    },
    {
     "name": "stderr",
     "output_type": "stream",
     "text": []
    },
    {
     "name": "stdout",
     "output_type": "stream",
     "text": [
      "546 546\n",
      "547 547\n",
      "548 548\n",
      "549 549\n",
      "550 550\n"
     ]
    },
    {
     "name": "stderr",
     "output_type": "stream",
     "text": []
    },
    {
     "name": "stdout",
     "output_type": "stream",
     "text": [
      "551 551\n",
      "552 552\n",
      "553 553\n",
      "554 554\n",
      "555 555\n"
     ]
    },
    {
     "name": "stderr",
     "output_type": "stream",
     "text": []
    },
    {
     "name": "stdout",
     "output_type": "stream",
     "text": [
      "556 556\n",
      "557 557\n",
      "558 558\n",
      "559 559\n",
      "560 560\n"
     ]
    },
    {
     "name": "stderr",
     "output_type": "stream",
     "text": []
    },
    {
     "name": "stdout",
     "output_type": "stream",
     "text": [
      "561 561\n",
      "562 562\n",
      "563 563\n",
      "564 564\n",
      "565 565\n"
     ]
    },
    {
     "name": "stderr",
     "output_type": "stream",
     "text": []
    },
    {
     "name": "stdout",
     "output_type": "stream",
     "text": [
      "566 566\n",
      "567 567\n",
      "568 568\n",
      "569 569\n",
      "570 570\n"
     ]
    },
    {
     "name": "stderr",
     "output_type": "stream",
     "text": []
    },
    {
     "name": "stdout",
     "output_type": "stream",
     "text": [
      "571 571\n",
      "572 572\n",
      "573 573\n",
      "574 574\n",
      "575 575\n"
     ]
    },
    {
     "name": "stderr",
     "output_type": "stream",
     "text": []
    },
    {
     "name": "stdout",
     "output_type": "stream",
     "text": [
      "576 576\n",
      "577 577\n",
      "578 578\n",
      "579 579\n",
      "580 580\n"
     ]
    },
    {
     "name": "stderr",
     "output_type": "stream",
     "text": []
    },
    {
     "name": "stdout",
     "output_type": "stream",
     "text": [
      "581 581\n",
      "582 582\n",
      "583 583\n",
      "584 584\n",
      "585 585\n"
     ]
    },
    {
     "name": "stderr",
     "output_type": "stream",
     "text": []
    },
    {
     "name": "stdout",
     "output_type": "stream",
     "text": [
      "586 586\n",
      "587 587\n",
      "588 588\n",
      "589 589\n",
      "590 590\n"
     ]
    },
    {
     "name": "stderr",
     "output_type": "stream",
     "text": []
    },
    {
     "name": "stdout",
     "output_type": "stream",
     "text": [
      "591 591\n",
      "592 592\n",
      "593 593\n",
      "594 594\n",
      "595 595\n"
     ]
    },
    {
     "name": "stderr",
     "output_type": "stream",
     "text": []
    },
    {
     "name": "stdout",
     "output_type": "stream",
     "text": [
      "596 596\n",
      "597 597\n",
      "598 598\n",
      "599 599\n",
      "600 600\n"
     ]
    },
    {
     "name": "stderr",
     "output_type": "stream",
     "text": []
    },
    {
     "name": "stdout",
     "output_type": "stream",
     "text": [
      "601 601\n",
      "602 602\n",
      "603 603\n",
      "604 604\n",
      "605 605\n"
     ]
    },
    {
     "name": "stderr",
     "output_type": "stream",
     "text": []
    },
    {
     "name": "stdout",
     "output_type": "stream",
     "text": [
      "606 606\n",
      "607 607\n",
      "608 608\n",
      "609 609\n",
      "610 610\n"
     ]
    },
    {
     "name": "stderr",
     "output_type": "stream",
     "text": []
    },
    {
     "name": "stdout",
     "output_type": "stream",
     "text": [
      "611 611\n",
      "612 612\n",
      "613 613\n",
      "614 614\n",
      "615 615\n"
     ]
    },
    {
     "name": "stderr",
     "output_type": "stream",
     "text": []
    },
    {
     "name": "stdout",
     "output_type": "stream",
     "text": [
      "616 616\n",
      "617 617\n",
      "618 618\n",
      "619 619\n",
      "620 620\n"
     ]
    },
    {
     "name": "stderr",
     "output_type": "stream",
     "text": []
    },
    {
     "name": "stdout",
     "output_type": "stream",
     "text": [
      "621 621\n",
      "622 622\n",
      "623 623\n",
      "624 624\n",
      "625 625\n"
     ]
    },
    {
     "name": "stderr",
     "output_type": "stream",
     "text": []
    },
    {
     "name": "stdout",
     "output_type": "stream",
     "text": [
      "626 626\n",
      "627 627\n",
      "628 628\n",
      "629 629\n",
      "630 630\n"
     ]
    },
    {
     "name": "stderr",
     "output_type": "stream",
     "text": []
    },
    {
     "name": "stdout",
     "output_type": "stream",
     "text": [
      "631 631\n",
      "632 632\n",
      "633 633\n",
      "634 634\n",
      "635 635\n"
     ]
    },
    {
     "name": "stderr",
     "output_type": "stream",
     "text": []
    },
    {
     "name": "stdout",
     "output_type": "stream",
     "text": [
      "636 636\n",
      "637 637\n",
      "638 638\n",
      "639 639\n",
      "640 640\n"
     ]
    },
    {
     "name": "stderr",
     "output_type": "stream",
     "text": []
    },
    {
     "name": "stdout",
     "output_type": "stream",
     "text": [
      "641 641\n",
      "642 642\n",
      "643 643\n",
      "644 644\n",
      "645 645\n"
     ]
    },
    {
     "name": "stderr",
     "output_type": "stream",
     "text": []
    },
    {
     "name": "stdout",
     "output_type": "stream",
     "text": [
      "646 646\n",
      "647 647\n",
      "648 648\n",
      "649 649\n",
      "650 650\n"
     ]
    },
    {
     "name": "stderr",
     "output_type": "stream",
     "text": []
    },
    {
     "name": "stdout",
     "output_type": "stream",
     "text": [
      "651 651\n",
      "652 652\n",
      "653 653\n",
      "654 654\n",
      "655 655\n"
     ]
    },
    {
     "name": "stderr",
     "output_type": "stream",
     "text": []
    },
    {
     "name": "stdout",
     "output_type": "stream",
     "text": [
      "656 656\n",
      "657 657\n",
      "658 658\n",
      "659 659\n",
      "660 660\n"
     ]
    },
    {
     "name": "stderr",
     "output_type": "stream",
     "text": []
    },
    {
     "name": "stdout",
     "output_type": "stream",
     "text": [
      "661 661\n",
      "662 662\n",
      "663 663\n",
      "664 664\n",
      "665 665\n"
     ]
    },
    {
     "name": "stderr",
     "output_type": "stream",
     "text": []
    },
    {
     "name": "stdout",
     "output_type": "stream",
     "text": [
      "666 666\n",
      "667 667\n",
      "668 668\n",
      "669 669\n",
      "670 670\n"
     ]
    },
    {
     "name": "stderr",
     "output_type": "stream",
     "text": []
    },
    {
     "name": "stdout",
     "output_type": "stream",
     "text": [
      "671 671\n",
      "672 672\n",
      "673 673\n",
      "674 674\n",
      "675 675\n"
     ]
    },
    {
     "name": "stderr",
     "output_type": "stream",
     "text": []
    },
    {
     "name": "stdout",
     "output_type": "stream",
     "text": [
      "676 676\n",
      "677 677\n",
      "678 678\n",
      "679 679\n",
      "680 680\n"
     ]
    },
    {
     "name": "stderr",
     "output_type": "stream",
     "text": []
    },
    {
     "name": "stdout",
     "output_type": "stream",
     "text": [
      "681 681\n",
      "682 682\n",
      "683 683\n",
      "684 684\n",
      "685 685\n"
     ]
    },
    {
     "name": "stderr",
     "output_type": "stream",
     "text": []
    },
    {
     "name": "stdout",
     "output_type": "stream",
     "text": [
      "686 686\n",
      "687 687\n",
      "688 688\n",
      "689 689\n",
      "690 690\n"
     ]
    },
    {
     "name": "stderr",
     "output_type": "stream",
     "text": []
    },
    {
     "name": "stdout",
     "output_type": "stream",
     "text": [
      "691 691\n",
      "692 692\n",
      "693 693\n",
      "694 694\n",
      "695 695\n"
     ]
    },
    {
     "name": "stderr",
     "output_type": "stream",
     "text": []
    },
    {
     "name": "stdout",
     "output_type": "stream",
     "text": [
      "696 696\n",
      "697 697\n",
      "698 698\n",
      "699 699\n",
      "700 700\n"
     ]
    },
    {
     "name": "stderr",
     "output_type": "stream",
     "text": []
    },
    {
     "name": "stdout",
     "output_type": "stream",
     "text": [
      "701 701\n",
      "702 702\n",
      "703 703\n",
      "704 704\n",
      "705 705\n"
     ]
    },
    {
     "name": "stderr",
     "output_type": "stream",
     "text": []
    },
    {
     "name": "stdout",
     "output_type": "stream",
     "text": [
      "706 706\n",
      "707 707\n",
      "708 708\n",
      "709 709\n",
      "710 710\n"
     ]
    },
    {
     "name": "stderr",
     "output_type": "stream",
     "text": []
    },
    {
     "name": "stdout",
     "output_type": "stream",
     "text": [
      "711 711\n",
      "712 712\n",
      "713 713\n",
      "714 714\n",
      "715 715\n"
     ]
    },
    {
     "name": "stderr",
     "output_type": "stream",
     "text": []
    },
    {
     "name": "stdout",
     "output_type": "stream",
     "text": [
      "716 716\n",
      "717 717\n",
      "718 718\n",
      "719 719\n",
      "720 720\n"
     ]
    },
    {
     "name": "stderr",
     "output_type": "stream",
     "text": []
    },
    {
     "name": "stdout",
     "output_type": "stream",
     "text": [
      "721 721\n",
      "722 722\n",
      "723 723\n",
      "724 724\n",
      "725 725\n"
     ]
    },
    {
     "name": "stderr",
     "output_type": "stream",
     "text": []
    },
    {
     "name": "stdout",
     "output_type": "stream",
     "text": [
      "726 726\n",
      "727 727\n",
      "728 728\n",
      "729 729\n",
      "730 730\n"
     ]
    },
    {
     "name": "stderr",
     "output_type": "stream",
     "text": []
    },
    {
     "name": "stdout",
     "output_type": "stream",
     "text": [
      "731 731\n",
      "732 732\n",
      "733 733\n",
      "734 734\n",
      "735 735\n"
     ]
    },
    {
     "name": "stderr",
     "output_type": "stream",
     "text": []
    },
    {
     "name": "stdout",
     "output_type": "stream",
     "text": [
      "736 736\n",
      "737 737\n",
      "738 738\n",
      "739 739\n",
      "740 740\n"
     ]
    },
    {
     "name": "stderr",
     "output_type": "stream",
     "text": []
    },
    {
     "name": "stdout",
     "output_type": "stream",
     "text": [
      "741 741\n",
      "742 742\n",
      "743 743\n",
      "744 744\n",
      "745 745\n"
     ]
    },
    {
     "name": "stderr",
     "output_type": "stream",
     "text": []
    },
    {
     "name": "stdout",
     "output_type": "stream",
     "text": [
      "746 746\n",
      "747 747\n",
      "748 748\n",
      "749 749\n",
      "750 750\n"
     ]
    },
    {
     "name": "stderr",
     "output_type": "stream",
     "text": []
    },
    {
     "name": "stdout",
     "output_type": "stream",
     "text": [
      "751 751\n",
      "752 752\n",
      "753 753\n",
      "754 754\n",
      "755 755\n"
     ]
    },
    {
     "name": "stderr",
     "output_type": "stream",
     "text": []
    },
    {
     "name": "stdout",
     "output_type": "stream",
     "text": [
      "756 756\n",
      "757 757\n",
      "758 758\n",
      "759 759\n",
      "760 760\n"
     ]
    },
    {
     "name": "stderr",
     "output_type": "stream",
     "text": []
    },
    {
     "name": "stdout",
     "output_type": "stream",
     "text": [
      "761 761\n",
      "762 762\n",
      "763 763\n",
      "764 764\n",
      "765 765\n"
     ]
    },
    {
     "name": "stderr",
     "output_type": "stream",
     "text": []
    },
    {
     "name": "stdout",
     "output_type": "stream",
     "text": [
      "766 766\n",
      "767 767\n",
      "768 768\n",
      "769 769\n",
      "770 770\n"
     ]
    },
    {
     "name": "stderr",
     "output_type": "stream",
     "text": []
    },
    {
     "name": "stdout",
     "output_type": "stream",
     "text": [
      "771 771\n",
      "772 772\n",
      "773 773\n",
      "774 774\n",
      "775 775\n"
     ]
    },
    {
     "name": "stderr",
     "output_type": "stream",
     "text": []
    },
    {
     "name": "stdout",
     "output_type": "stream",
     "text": [
      "776 776\n",
      "777 777\n",
      "778 778\n",
      "779 779\n",
      "780 780\n"
     ]
    },
    {
     "name": "stderr",
     "output_type": "stream",
     "text": []
    },
    {
     "name": "stdout",
     "output_type": "stream",
     "text": [
      "781 781\n",
      "782 782\n",
      "783 783\n",
      "784 784\n",
      "785 785\n"
     ]
    },
    {
     "name": "stderr",
     "output_type": "stream",
     "text": []
    },
    {
     "name": "stdout",
     "output_type": "stream",
     "text": [
      "786 786\n",
      "787 787\n",
      "788 788\n",
      "789 789\n",
      "790 790\n"
     ]
    },
    {
     "name": "stderr",
     "output_type": "stream",
     "text": []
    },
    {
     "name": "stdout",
     "output_type": "stream",
     "text": [
      "791 791\n",
      "792 792\n",
      "793 793\n",
      "794 794\n",
      "795 795\n"
     ]
    },
    {
     "name": "stderr",
     "output_type": "stream",
     "text": []
    },
    {
     "name": "stdout",
     "output_type": "stream",
     "text": [
      "796 796\n",
      "797 797\n",
      "798 798\n",
      "799 799\n",
      "800 800\n"
     ]
    },
    {
     "name": "stderr",
     "output_type": "stream",
     "text": []
    },
    {
     "name": "stdout",
     "output_type": "stream",
     "text": [
      "801 801\n",
      "802 802\n",
      "803 803\n",
      "804 804\n",
      "805 805\n"
     ]
    },
    {
     "name": "stderr",
     "output_type": "stream",
     "text": []
    },
    {
     "name": "stdout",
     "output_type": "stream",
     "text": [
      "806 806\n",
      "807 807\n",
      "808 808\n",
      "809 809\n",
      "810 810\n"
     ]
    },
    {
     "name": "stderr",
     "output_type": "stream",
     "text": []
    },
    {
     "name": "stdout",
     "output_type": "stream",
     "text": [
      "811 811\n",
      "812 812\n",
      "813 813\n",
      "814 814\n",
      "815 815\n"
     ]
    },
    {
     "name": "stderr",
     "output_type": "stream",
     "text": []
    },
    {
     "name": "stdout",
     "output_type": "stream",
     "text": [
      "816 816\n",
      "817 817\n",
      "818 818\n",
      "819 819\n",
      "820 820\n"
     ]
    },
    {
     "name": "stderr",
     "output_type": "stream",
     "text": []
    },
    {
     "name": "stdout",
     "output_type": "stream",
     "text": [
      "821 821\n",
      "822 822\n",
      "823 823\n",
      "824 824\n",
      "825 825\n"
     ]
    },
    {
     "name": "stderr",
     "output_type": "stream",
     "text": []
    },
    {
     "name": "stdout",
     "output_type": "stream",
     "text": [
      "826 826\n",
      "827 827\n",
      "828 828\n",
      "829 829\n",
      "830 830\n"
     ]
    },
    {
     "name": "stderr",
     "output_type": "stream",
     "text": []
    },
    {
     "name": "stdout",
     "output_type": "stream",
     "text": [
      "831 831\n",
      "832 832\n",
      "833 833\n",
      "834 834\n",
      "835 835\n"
     ]
    },
    {
     "name": "stderr",
     "output_type": "stream",
     "text": []
    },
    {
     "name": "stdout",
     "output_type": "stream",
     "text": [
      "836 836\n",
      "837 837\n",
      "838 838\n",
      "839 839\n",
      "840 840\n"
     ]
    },
    {
     "name": "stderr",
     "output_type": "stream",
     "text": []
    },
    {
     "name": "stdout",
     "output_type": "stream",
     "text": [
      "841 841\n",
      "842 842\n",
      "843 843\n",
      "844 844\n",
      "845 845\n"
     ]
    },
    {
     "name": "stderr",
     "output_type": "stream",
     "text": []
    },
    {
     "name": "stdout",
     "output_type": "stream",
     "text": [
      "846 846\n",
      "847 847\n",
      "848 848\n",
      "849 849\n",
      "850 850\n"
     ]
    },
    {
     "name": "stderr",
     "output_type": "stream",
     "text": []
    },
    {
     "name": "stdout",
     "output_type": "stream",
     "text": [
      "851 851\n",
      "852 852\n",
      "853 853\n",
      "854 854\n",
      "855 855\n"
     ]
    },
    {
     "name": "stderr",
     "output_type": "stream",
     "text": []
    },
    {
     "name": "stdout",
     "output_type": "stream",
     "text": [
      "856 856\n",
      "857 857\n",
      "858 858\n",
      "859 859\n",
      "860 860\n"
     ]
    },
    {
     "name": "stderr",
     "output_type": "stream",
     "text": []
    },
    {
     "name": "stdout",
     "output_type": "stream",
     "text": [
      "861 861\n",
      "862 862\n",
      "863 863\n",
      "864 864\n",
      "865 865\n"
     ]
    },
    {
     "name": "stderr",
     "output_type": "stream",
     "text": []
    },
    {
     "name": "stdout",
     "output_type": "stream",
     "text": [
      "866 866\n",
      "867 867\n",
      "868 868\n",
      "869 869\n",
      "870 870\n"
     ]
    },
    {
     "name": "stderr",
     "output_type": "stream",
     "text": []
    },
    {
     "name": "stdout",
     "output_type": "stream",
     "text": [
      "871 871\n",
      "872 872\n",
      "873 873\n",
      "874 874\n",
      "875 875\n"
     ]
    },
    {
     "name": "stderr",
     "output_type": "stream",
     "text": []
    },
    {
     "name": "stdout",
     "output_type": "stream",
     "text": [
      "876 876\n",
      "877 877\n",
      "878 878\n",
      "879 879\n",
      "880 880\n"
     ]
    },
    {
     "name": "stderr",
     "output_type": "stream",
     "text": []
    },
    {
     "name": "stdout",
     "output_type": "stream",
     "text": [
      "881 881\n",
      "882 882\n",
      "883 883\n",
      "884 884\n",
      "885 885\n"
     ]
    },
    {
     "name": "stderr",
     "output_type": "stream",
     "text": []
    },
    {
     "name": "stdout",
     "output_type": "stream",
     "text": [
      "886 886\n",
      "887 887\n",
      "888 888\n",
      "889 889\n",
      "890 890\n"
     ]
    },
    {
     "name": "stderr",
     "output_type": "stream",
     "text": []
    },
    {
     "name": "stdout",
     "output_type": "stream",
     "text": [
      "891 891\n",
      "892 892\n",
      "893 893\n",
      "894 894\n",
      "895 895\n"
     ]
    },
    {
     "name": "stderr",
     "output_type": "stream",
     "text": []
    },
    {
     "name": "stdout",
     "output_type": "stream",
     "text": [
      "896 896\n",
      "897 897\n",
      "898 898\n",
      "899 899\n",
      "900 900\n"
     ]
    },
    {
     "name": "stderr",
     "output_type": "stream",
     "text": []
    },
    {
     "name": "stdout",
     "output_type": "stream",
     "text": [
      "901 901\n",
      "902 902\n",
      "903 903\n",
      "904 904\n",
      "905 905\n"
     ]
    },
    {
     "name": "stderr",
     "output_type": "stream",
     "text": []
    },
    {
     "name": "stdout",
     "output_type": "stream",
     "text": [
      "906 906\n",
      "907 907\n",
      "908 908\n",
      "909 909\n",
      "910 910\n"
     ]
    },
    {
     "name": "stderr",
     "output_type": "stream",
     "text": []
    },
    {
     "name": "stdout",
     "output_type": "stream",
     "text": [
      "911 911\n",
      "912 912\n",
      "913 913\n",
      "914 914\n",
      "915 915\n"
     ]
    },
    {
     "name": "stderr",
     "output_type": "stream",
     "text": []
    },
    {
     "name": "stdout",
     "output_type": "stream",
     "text": [
      "916 916\n",
      "917 917\n",
      "918 918\n",
      "919 919\n",
      "920 920\n"
     ]
    },
    {
     "name": "stderr",
     "output_type": "stream",
     "text": []
    },
    {
     "name": "stdout",
     "output_type": "stream",
     "text": [
      "921 921\n",
      "922 922\n",
      "923 923\n",
      "924 924\n",
      "925 925\n"
     ]
    },
    {
     "name": "stderr",
     "output_type": "stream",
     "text": []
    },
    {
     "name": "stdout",
     "output_type": "stream",
     "text": [
      "926 926\n",
      "927 927\n",
      "928 928\n",
      "929 929\n",
      "930 930\n"
     ]
    },
    {
     "name": "stderr",
     "output_type": "stream",
     "text": []
    },
    {
     "name": "stdout",
     "output_type": "stream",
     "text": [
      "931 931\n",
      "932 932\n",
      "933 933\n",
      "934 934\n",
      "935 935\n"
     ]
    },
    {
     "name": "stderr",
     "output_type": "stream",
     "text": []
    },
    {
     "name": "stdout",
     "output_type": "stream",
     "text": [
      "936 936\n",
      "937 937\n",
      "938 938\n",
      "939 939\n",
      "940 940\n"
     ]
    },
    {
     "name": "stderr",
     "output_type": "stream",
     "text": []
    },
    {
     "name": "stdout",
     "output_type": "stream",
     "text": [
      "941 941\n",
      "942 942\n",
      "943 943\n",
      "944 944\n",
      "945 945\n"
     ]
    },
    {
     "name": "stderr",
     "output_type": "stream",
     "text": []
    },
    {
     "name": "stdout",
     "output_type": "stream",
     "text": [
      "946 946\n",
      "947 947\n",
      "948 948\n",
      "949 949\n",
      "950 950\n"
     ]
    },
    {
     "name": "stderr",
     "output_type": "stream",
     "text": []
    },
    {
     "name": "stdout",
     "output_type": "stream",
     "text": [
      "951 951\n",
      "952 952\n",
      "953 953\n",
      "954 954\n",
      "955 955\n"
     ]
    },
    {
     "name": "stderr",
     "output_type": "stream",
     "text": []
    },
    {
     "name": "stdout",
     "output_type": "stream",
     "text": [
      "956 956\n",
      "957 957\n",
      "958 958\n",
      "959 959\n",
      "960 960\n"
     ]
    },
    {
     "name": "stderr",
     "output_type": "stream",
     "text": []
    },
    {
     "name": "stdout",
     "output_type": "stream",
     "text": [
      "961 961\n",
      "962 962\n",
      "963 963\n",
      "964 964\n",
      "965 965\n"
     ]
    },
    {
     "name": "stderr",
     "output_type": "stream",
     "text": []
    },
    {
     "name": "stdout",
     "output_type": "stream",
     "text": [
      "966 966\n",
      "967 967\n",
      "968 968\n",
      "969 969\n",
      "970 970\n"
     ]
    },
    {
     "name": "stderr",
     "output_type": "stream",
     "text": []
    },
    {
     "name": "stdout",
     "output_type": "stream",
     "text": [
      "971 971\n",
      "972 972\n",
      "973 973\n",
      "974 974\n",
      "975 975\n"
     ]
    },
    {
     "name": "stderr",
     "output_type": "stream",
     "text": []
    },
    {
     "name": "stdout",
     "output_type": "stream",
     "text": [
      "976 976\n",
      "977 977\n",
      "978 978\n",
      "979 979\n",
      "980 980\n"
     ]
    },
    {
     "name": "stderr",
     "output_type": "stream",
     "text": []
    },
    {
     "name": "stdout",
     "output_type": "stream",
     "text": [
      "981 981\n",
      "982 982\n",
      "983 983\n",
      "984 984\n",
      "985 985\n"
     ]
    },
    {
     "name": "stderr",
     "output_type": "stream",
     "text": []
    },
    {
     "name": "stdout",
     "output_type": "stream",
     "text": [
      "986 986\n",
      "987 987\n",
      "988 988\n",
      "989 989\n",
      "990 990\n"
     ]
    },
    {
     "name": "stderr",
     "output_type": "stream",
     "text": []
    },
    {
     "name": "stdout",
     "output_type": "stream",
     "text": [
      "991 991\n",
      "992 992\n",
      "993 993\n",
      "994 994\n",
      "995 995\n"
     ]
    },
    {
     "name": "stderr",
     "output_type": "stream",
     "text": []
    },
    {
     "name": "stdout",
     "output_type": "stream",
     "text": [
      "996 996\n",
      "997 997\n",
      "998 998\n",
      "999 999\n",
      "1000 1000\n"
     ]
    },
    {
     "name": "stderr",
     "output_type": "stream",
     "text": []
    },
    {
     "name": "stdout",
     "output_type": "stream",
     "text": [
      "1001 1001\n",
      "1002 1002\n",
      "1003 1003\n",
      "1004 1004\n",
      "1005 1005\n"
     ]
    },
    {
     "name": "stderr",
     "output_type": "stream",
     "text": []
    },
    {
     "name": "stdout",
     "output_type": "stream",
     "text": [
      "1006 1006\n",
      "1007 1007\n",
      "1008 1008\n",
      "1009 1009\n",
      "1010 1010\n"
     ]
    },
    {
     "name": "stderr",
     "output_type": "stream",
     "text": []
    },
    {
     "name": "stdout",
     "output_type": "stream",
     "text": [
      "1011 1011\n",
      "1012 1012\n",
      "1013 1013\n",
      "1014 1014\n",
      "1015 1015\n"
     ]
    },
    {
     "name": "stderr",
     "output_type": "stream",
     "text": []
    },
    {
     "name": "stdout",
     "output_type": "stream",
     "text": [
      "1016 1016\n",
      "1017 1017\n",
      "1018 1018\n",
      "1019 1019\n",
      "1020 1020\n"
     ]
    },
    {
     "name": "stderr",
     "output_type": "stream",
     "text": []
    },
    {
     "name": "stdout",
     "output_type": "stream",
     "text": [
      "1021 1021\n",
      "1022 1022\n",
      "1023 1023\n",
      "1024 1024\n",
      "1025 1025\n"
     ]
    },
    {
     "name": "stderr",
     "output_type": "stream",
     "text": []
    },
    {
     "name": "stdout",
     "output_type": "stream",
     "text": [
      "1026 1026\n",
      "1027 1027\n",
      "1028 1028\n",
      "1029 1029\n",
      "1030 1030\n"
     ]
    },
    {
     "name": "stderr",
     "output_type": "stream",
     "text": []
    },
    {
     "name": "stdout",
     "output_type": "stream",
     "text": [
      "1031 1031\n",
      "1032 1032\n",
      "1033 1033\n",
      "1034 1034\n",
      "1035 1035\n"
     ]
    },
    {
     "name": "stderr",
     "output_type": "stream",
     "text": []
    },
    {
     "name": "stdout",
     "output_type": "stream",
     "text": [
      "1036 1036\n",
      "1037 1037\n",
      "1038 1038\n",
      "1039 1039\n",
      "1040 1040\n"
     ]
    },
    {
     "name": "stderr",
     "output_type": "stream",
     "text": []
    },
    {
     "name": "stdout",
     "output_type": "stream",
     "text": [
      "1041 1041\n",
      "1042 1042\n",
      "1043 1043\n",
      "1044 1044\n",
      "1045 1045\n"
     ]
    },
    {
     "name": "stderr",
     "output_type": "stream",
     "text": []
    },
    {
     "name": "stdout",
     "output_type": "stream",
     "text": [
      "1046 1046\n",
      "1047 1047\n",
      "1048 1048\n",
      "1049 1049\n",
      "1050 1050\n"
     ]
    },
    {
     "name": "stderr",
     "output_type": "stream",
     "text": []
    },
    {
     "name": "stdout",
     "output_type": "stream",
     "text": [
      "1051 1051\n",
      "1052 1052\n",
      "1053 1053\n",
      "1054 1054\n",
      "1055 1055\n"
     ]
    },
    {
     "name": "stderr",
     "output_type": "stream",
     "text": []
    },
    {
     "name": "stdout",
     "output_type": "stream",
     "text": [
      "1056 1056\n",
      "1057 1057\n",
      "1058 1058\n",
      "1059 1059\n",
      "1060 1060\n"
     ]
    },
    {
     "name": "stderr",
     "output_type": "stream",
     "text": []
    },
    {
     "name": "stdout",
     "output_type": "stream",
     "text": [
      "1061 1061\n",
      "1062 1062\n",
      "1063 1063\n",
      "1064 1064\n",
      "1065 1065\n"
     ]
    },
    {
     "name": "stderr",
     "output_type": "stream",
     "text": []
    },
    {
     "name": "stdout",
     "output_type": "stream",
     "text": [
      "1066 1066\n",
      "1067 1067\n",
      "1068 1068\n",
      "1069 1069\n",
      "1070 1070\n"
     ]
    },
    {
     "name": "stderr",
     "output_type": "stream",
     "text": []
    },
    {
     "name": "stdout",
     "output_type": "stream",
     "text": [
      "1071 1071\n",
      "1072 1072\n",
      "1073 1073\n",
      "1074 1074\n",
      "1075 1075\n"
     ]
    },
    {
     "name": "stderr",
     "output_type": "stream",
     "text": []
    },
    {
     "name": "stdout",
     "output_type": "stream",
     "text": [
      "1076 1076\n",
      "1077 1077\n",
      "1078 1078\n",
      "1079 1079\n",
      "1080 1080\n"
     ]
    },
    {
     "name": "stderr",
     "output_type": "stream",
     "text": []
    },
    {
     "name": "stdout",
     "output_type": "stream",
     "text": [
      "1081 1081\n",
      "1082 1082\n",
      "1083 1083\n",
      "1084 1084\n",
      "1085 1085\n"
     ]
    },
    {
     "name": "stderr",
     "output_type": "stream",
     "text": []
    },
    {
     "name": "stdout",
     "output_type": "stream",
     "text": [
      "1086 1086\n",
      "1087 1087\n",
      "1088 1088\n",
      "1089 1089\n",
      "1090 1090\n"
     ]
    },
    {
     "name": "stderr",
     "output_type": "stream",
     "text": []
    },
    {
     "name": "stdout",
     "output_type": "stream",
     "text": [
      "1091 1091\n",
      "1092 1092\n",
      "1093 1093\n",
      "1094 1094\n",
      "1095 1095\n"
     ]
    },
    {
     "name": "stderr",
     "output_type": "stream",
     "text": []
    },
    {
     "name": "stdout",
     "output_type": "stream",
     "text": [
      "1096 1096\n",
      "1097 1097\n",
      "1098 1098\n",
      "1099 1099\n",
      "1100 1100\n"
     ]
    },
    {
     "name": "stderr",
     "output_type": "stream",
     "text": []
    },
    {
     "name": "stdout",
     "output_type": "stream",
     "text": [
      "1101 1101\n",
      "1102 1102\n",
      "1103 1103\n",
      "1104 1104\n",
      "1105 1105\n"
     ]
    },
    {
     "name": "stderr",
     "output_type": "stream",
     "text": []
    },
    {
     "name": "stdout",
     "output_type": "stream",
     "text": [
      "1106 1106\n",
      "1107 1107\n",
      "1108 1108\n",
      "1109 1109\n",
      "1110 1110\n"
     ]
    },
    {
     "name": "stderr",
     "output_type": "stream",
     "text": []
    },
    {
     "name": "stdout",
     "output_type": "stream",
     "text": [
      "1111 1111\n",
      "1112 1112\n",
      "1113 1113\n",
      "1114 1114\n",
      "1115 1115\n"
     ]
    },
    {
     "name": "stderr",
     "output_type": "stream",
     "text": []
    },
    {
     "name": "stdout",
     "output_type": "stream",
     "text": [
      "1116 1116\n",
      "1117 1117\n",
      "1118 1118\n",
      "1119 1119\n",
      "1120 1120\n"
     ]
    },
    {
     "name": "stderr",
     "output_type": "stream",
     "text": []
    },
    {
     "name": "stdout",
     "output_type": "stream",
     "text": [
      "1121 1121\n",
      "1122 1122\n",
      "1123 1123\n",
      "1124 1124\n",
      "1125 1125\n"
     ]
    },
    {
     "name": "stderr",
     "output_type": "stream",
     "text": []
    },
    {
     "name": "stdout",
     "output_type": "stream",
     "text": [
      "1126 1126\n",
      "1127 1127\n",
      "1128 1128\n",
      "1129 1129\n",
      "1130 1130\n"
     ]
    },
    {
     "name": "stderr",
     "output_type": "stream",
     "text": []
    },
    {
     "name": "stdout",
     "output_type": "stream",
     "text": [
      "1131 1131\n",
      "1132 1132\n",
      "1133 1133\n",
      "1134 1134\n",
      "1135 1135\n"
     ]
    },
    {
     "name": "stderr",
     "output_type": "stream",
     "text": []
    },
    {
     "name": "stdout",
     "output_type": "stream",
     "text": [
      "1136 1136\n",
      "1137 1137\n",
      "1138 1138\n",
      "1139 1139\n",
      "1140 1140\n"
     ]
    },
    {
     "name": "stderr",
     "output_type": "stream",
     "text": []
    },
    {
     "name": "stdout",
     "output_type": "stream",
     "text": [
      "1141 1141\n",
      "1142 1142\n",
      "1143 1143\n",
      "1144 1144\n",
      "1145 1145\n"
     ]
    },
    {
     "name": "stderr",
     "output_type": "stream",
     "text": []
    },
    {
     "name": "stdout",
     "output_type": "stream",
     "text": [
      "1146 1146\n",
      "1147 1147\n",
      "1148 1148\n",
      "1149 1149\n",
      "1150 1150\n"
     ]
    },
    {
     "name": "stderr",
     "output_type": "stream",
     "text": []
    },
    {
     "name": "stdout",
     "output_type": "stream",
     "text": [
      "1151 1151\n",
      "1152 1152\n",
      "1153 1153\n",
      "1154 1154\n",
      "1155 1155\n"
     ]
    },
    {
     "name": "stderr",
     "output_type": "stream",
     "text": []
    },
    {
     "name": "stdout",
     "output_type": "stream",
     "text": [
      "1156 1156\n",
      "1157 1157\n",
      "1158 1158\n",
      "1159 1159\n",
      "1160 1160\n"
     ]
    },
    {
     "name": "stderr",
     "output_type": "stream",
     "text": []
    },
    {
     "name": "stdout",
     "output_type": "stream",
     "text": [
      "1161 1161\n",
      "1162 1162\n",
      "1163 1163\n",
      "1164 1164\n",
      "1165 1165\n"
     ]
    },
    {
     "name": "stderr",
     "output_type": "stream",
     "text": []
    },
    {
     "name": "stdout",
     "output_type": "stream",
     "text": [
      "1166 1166\n",
      "1167 1167\n",
      "1168 1168\n",
      "1169 1169\n",
      "1170 1170\n"
     ]
    },
    {
     "name": "stderr",
     "output_type": "stream",
     "text": []
    },
    {
     "name": "stdout",
     "output_type": "stream",
     "text": [
      "1171 1171\n",
      "1172 1172\n",
      "1173 1173\n",
      "1174 1174\n",
      "1175 1175\n"
     ]
    },
    {
     "name": "stderr",
     "output_type": "stream",
     "text": []
    },
    {
     "name": "stdout",
     "output_type": "stream",
     "text": [
      "1176 1176\n",
      "1177 1177\n",
      "1178 1178\n",
      "1179 1179\n",
      "1180 1180\n"
     ]
    },
    {
     "name": "stderr",
     "output_type": "stream",
     "text": []
    },
    {
     "name": "stdout",
     "output_type": "stream",
     "text": [
      "1181 1181\n",
      "1182 1182\n",
      "1183 1183\n",
      "1184 1184\n",
      "1185 1185\n"
     ]
    },
    {
     "name": "stderr",
     "output_type": "stream",
     "text": []
    },
    {
     "name": "stdout",
     "output_type": "stream",
     "text": [
      "1186 1186\n",
      "1187 1187\n",
      "1188 1188\n",
      "1189 1189\n",
      "1190 1190\n"
     ]
    },
    {
     "name": "stderr",
     "output_type": "stream",
     "text": []
    },
    {
     "name": "stdout",
     "output_type": "stream",
     "text": [
      "1191 1191\n",
      "1192 1192\n",
      "1193 1193\n",
      "1194 1194\n",
      "1195 1195\n"
     ]
    },
    {
     "name": "stderr",
     "output_type": "stream",
     "text": [
      "100%|██████████| 1200/1200 [00:55<00:00, 21.62it/s]"
     ]
    },
    {
     "name": "stdout",
     "output_type": "stream",
     "text": [
      "1196 1196\n",
      "1197 1197\n",
      "1198 1198\n",
      "1199 1199\n",
      "1200 1200\n"
     ]
    },
    {
     "name": "stderr",
     "output_type": "stream",
     "text": [
      "\n"
     ]
    },
    {
     "data": {
      "text/html": [
       "<pre style=\"white-space:pre;overflow-x:auto;line-height:normal;font-family:Menlo,'DejaVu Sans Mono',consolas,'Courier New',monospace\">┏━━━━━━━━━━━━━━━━━━━━━━━━━━━┳━━━━━━━━━━━━━━━━━━━━━━━━━━━┓\n",
       "┃<span style=\"font-weight: bold\">      Validate metric      </span>┃<span style=\"font-weight: bold\">       DataLoader 0        </span>┃\n",
       "┡━━━━━━━━━━━━━━━━━━━━━━━━━━━╇━━━━━━━━━━━━━━━━━━━━━━━━━━━┩\n",
       "│<span style=\"color: #008080; text-decoration-color: #008080\">        psnr/coarse        </span>│<span style=\"color: #800080; text-decoration-color: #800080\">            0.0            </span>│\n",
       "│<span style=\"color: #008080; text-decoration-color: #008080\">         psnr/fine         </span>│<span style=\"color: #800080; text-decoration-color: #800080\">            0.0            </span>│\n",
       "│<span style=\"color: #008080; text-decoration-color: #008080\">   val/loss_depth_coarse   </span>│<span style=\"color: #800080; text-decoration-color: #800080\">            0.0            </span>│\n",
       "│<span style=\"color: #008080; text-decoration-color: #008080\">    val/loss_depth_fine    </span>│<span style=\"color: #800080; text-decoration-color: #800080\">            0.0            </span>│\n",
       "│<span style=\"color: #008080; text-decoration-color: #008080\">      val/rgb_coarse       </span>│<span style=\"color: #800080; text-decoration-color: #800080\">            0.0            </span>│\n",
       "│<span style=\"color: #008080; text-decoration-color: #008080\">       val/rgb_fine        </span>│<span style=\"color: #800080; text-decoration-color: #800080\">            0.0            </span>│\n",
       "└───────────────────────────┴───────────────────────────┘\n",
       "</pre>\n"
      ],
      "text/plain": [
       "┏━━━━━━━━━━━━━━━━━━━━━━━━━━━┳━━━━━━━━━━━━━━━━━━━━━━━━━━━┓\n",
       "┃\u001b[1m \u001b[0m\u001b[1m     Validate metric     \u001b[0m\u001b[1m \u001b[0m┃\u001b[1m \u001b[0m\u001b[1m      DataLoader 0       \u001b[0m\u001b[1m \u001b[0m┃\n",
       "┡━━━━━━━━━━━━━━━━━━━━━━━━━━━╇━━━━━━━━━━━━━━━━━━━━━━━━━━━┩\n",
       "│\u001b[36m \u001b[0m\u001b[36m       psnr/coarse       \u001b[0m\u001b[36m \u001b[0m│\u001b[35m \u001b[0m\u001b[35m           0.0           \u001b[0m\u001b[35m \u001b[0m│\n",
       "│\u001b[36m \u001b[0m\u001b[36m        psnr/fine        \u001b[0m\u001b[36m \u001b[0m│\u001b[35m \u001b[0m\u001b[35m           0.0           \u001b[0m\u001b[35m \u001b[0m│\n",
       "│\u001b[36m \u001b[0m\u001b[36m  val/loss_depth_coarse  \u001b[0m\u001b[36m \u001b[0m│\u001b[35m \u001b[0m\u001b[35m           0.0           \u001b[0m\u001b[35m \u001b[0m│\n",
       "│\u001b[36m \u001b[0m\u001b[36m   val/loss_depth_fine   \u001b[0m\u001b[36m \u001b[0m│\u001b[35m \u001b[0m\u001b[35m           0.0           \u001b[0m\u001b[35m \u001b[0m│\n",
       "│\u001b[36m \u001b[0m\u001b[36m     val/rgb_coarse      \u001b[0m\u001b[36m \u001b[0m│\u001b[35m \u001b[0m\u001b[35m           0.0           \u001b[0m\u001b[35m \u001b[0m│\n",
       "│\u001b[36m \u001b[0m\u001b[36m      val/rgb_fine       \u001b[0m\u001b[36m \u001b[0m│\u001b[35m \u001b[0m\u001b[35m           0.0           \u001b[0m\u001b[35m \u001b[0m│\n",
       "└───────────────────────────┴───────────────────────────┘\n"
      ]
     },
     "metadata": {},
     "output_type": "display_data"
    },
    {
     "name": "stderr",
     "output_type": "stream",
     "text": [
      "100%|██████████| 1/1 [00:59<00:00, 59.04s/it]"
     ]
    },
    {
     "name": "stdout",
     "output_type": "stream",
     "text": [
      "end\n"
     ]
    },
    {
     "name": "stderr",
     "output_type": "stream",
     "text": [
      "\n"
     ]
    }
   ],
   "source": [
    "# -------------------------------- trainer ---------------------------------------\n",
    "trainer = pl.Trainer(\n",
    "    accelerator=\"gpu\" if device==\"cuda\" else \"cpu\", \n",
    "    #devices=2,\n",
    "    #strategy = \"ddp_notebook\",\n",
    "    max_epochs=args.max_epochs,\n",
    "    check_val_every_n_epoch=1, \n",
    "    num_sanity_val_steps=0,\n",
    "    )\n",
    "\n",
    "\n",
    "ModelSummary(volrecon, max_depth=1)\n",
    "\n",
    "# -------------------------------- train or/and testing --------------------------------\n",
    "if not args.extract_geometry:\n",
    "    if args.val_only:\n",
    "        print(\"[only validation]\")\n",
    "        trainer.validate(volrecon, dataloader_train)\n",
    "    else:\n",
    "        print(\"[start training]\")\n",
    "        trainer.fit(volrecon, dataloader_train, dataloader_val)\n",
    "else:\n",
    "    for dataloader_test1 in tqdm(dataloader_test):\n",
    "        trainer.validate(volrecon, dataloader_test1)\n",
    "\n",
    "print(\"end\")"
   ]
  },
  {
   "attachments": {},
   "cell_type": "markdown",
   "metadata": {},
   "source": [
    "The algorithm generated view number 29. We will generate the same view, while discarding it from source images. <br>\n",
    "We will make changes in general_fit.py and restart the kernel to get those changes. <br>\n",
    "We perform the following changes: <br>\n",
    "\n",
    "1. In general_fit.py insert in line 91: \n",
    "<pre><code>       if self.n_randomly_generated_views > 0 :\n",
    "            return [metas[29]] </code></pre> (here if the first run generated another index than 29, you should use that index)\n",
    "2. In general_fit.py replace line 233 with  `src_idx = idx[1:] + [self.n_views]` \n",
    "3. In general_fit.py replace 230 line with `view_ids = [ref_view] + src_views`\n",
    "4. In the following code (args), set out_dir to './outputs_g_test2'\n",
    "5. Restat the kernel so that python loads the new version of general_fit.py\n",
    "\n",
    "\n"
   ]
  },
  {
   "cell_type": "code",
   "execution_count": 1,
   "metadata": {},
   "outputs": [
    {
     "name": "stderr",
     "output_type": "stream",
     "text": [
      "Global seed set to 0\n",
      "Lightning automatically upgraded your loaded checkpoint from v1.5.10 to v1.9.5. To apply the upgrade to your files permanently, run `python -m pytorch_lightning.utilities.upgrade_checkpoint --file checkpoints/epoch=15-step=193199.ckpt`\n"
     ]
    },
    {
     "name": "stdout",
     "output_type": "stream",
     "text": [
      "Model loaded: checkpoints/epoch=15-step=193199.ckpt\n"
     ]
    }
   ],
   "source": [
    "# VolRecon\n",
    "\n",
    "import argparse\n",
    "from re import I\n",
    "from stat import UF_OPAQUE\n",
    "from tqdm import tqdm\n",
    "import math\n",
    "\n",
    "import torch\n",
    "from torch.utils.data import DataLoader\n",
    "from pytorch_lightning.loggers import WandbLogger\n",
    "import pytorch_lightning as pl\n",
    "from pytorch_lightning import seed_everything\n",
    "from pytorch_lightning.utilities.model_summary import ModelSummary\n",
    "\n",
    "\n",
    "from code.model import VolRecon\n",
    "from code.dataset.dtu_train import MVSDataset\n",
    "from code.dataset.dtu_test_sparse import DtuFitSparse\n",
    "from code.dataset.general_fit import GeneralFit\n",
    "\n",
    "PI = math.pi\n",
    "device = \"cuda\" if torch.cuda.is_available() else \"cpu\"\n",
    "\n",
    "# -------------------------------- main function\n",
    "\n",
    "seed_everything(0, workers=True)    \n",
    "\n",
    "# -------------------------------- args for training and models ---------------------\n",
    "class dummy:\n",
    "    def __init__(self):\n",
    "        self.a=1\n",
    "args = dummy()\n",
    "\n",
    "setattr(args, 'batch_size', 2)\n",
    "setattr(args, 'extract_geometry', True)\n",
    "setattr(args, 'test_general', True)\n",
    "setattr(args, 'test_n_view', 5) #\n",
    "setattr(args, 'test_dir', '../Rectified_colmap')\n",
    "setattr(args, 'load_ckpt', 'checkpoints/epoch=15-step=193199.ckpt')\n",
    "setattr(args, 'train_ray_num',1024)\n",
    "setattr(args, 'lr', 0.0001)\n",
    "setattr(args, 'max_epochs', 16)\n",
    "setattr(args, 'val_only', False)\n",
    "setattr(args, 'volume_reso', 96)\n",
    "setattr(args, 'coarse_sample', 64)\n",
    "setattr(args, 'fine_sample', 64)\n",
    "setattr(args, 'weight_rgb', 1.0)\n",
    "setattr(args, 'weight_depth', 1.0)\n",
    "setattr(args, 'logdir', './checkpoints')\n",
    "setattr(args, 'out_dir', './outputs_g_test2') #\n",
    "setattr(args, 'test_ray_num', 400)\n",
    "setattr(args, 'test_sample_coarse', 64)\n",
    "setattr(args, 'test_sample_fine', 64)\n",
    "setattr(args, 'test_coarse_only', False)\n",
    "setattr(args, 'set', 0)\n",
    "setattr(args, 'n_randomly_generated_views', 1)\n",
    "\n",
    "\n",
    "batch_size = args.batch_size\n",
    "num_workers = 12\n",
    "devices = [0]\n",
    "# -------------------------------- dataset ----------------------------------------\n",
    "if not args.extract_geometry:\n",
    "    # training\n",
    "    dtu_dataset_train = MVSDataset(            \n",
    "            root_dir=args.root_dir,\n",
    "            split=\"train\",\n",
    "            split_filepath=\"code/dataset/dtu/lists/train.txt\",\n",
    "            pair_filepath=\"code/dataset/dtu/dtu_pairs.txt\",\n",
    "            n_views=3,\n",
    "            )\n",
    "\n",
    "    dtu_dataset_val = MVSDataset(            \n",
    "            root_dir=args.root_dir,\n",
    "            split=\"test\",\n",
    "            split_filepath=\"code/dataset/dtu/lists/test.txt\",\n",
    "            pair_filepath=\"code/dataset/dtu/dtu_pairs.txt\",\n",
    "            n_views=3,\n",
    "            test_ref_views = [23],  # only use view 23\n",
    "            )\n",
    "\n",
    "    print(\"dtu_dataset_train:\", len(dtu_dataset_train))\n",
    "    print(\"dtu_dataset_val:\", len(dtu_dataset_val))\n",
    "\n",
    "    dataloader_train = DataLoader(dtu_dataset_train,\n",
    "                                    batch_size=batch_size, \n",
    "                                    num_workers=num_workers, \n",
    "                                    shuffle=True)  \n",
    "    dataloader_val = DataLoader(dtu_dataset_val,\n",
    "                                    batch_size=batch_size, \n",
    "                                    num_workers=num_workers, \n",
    "                                    shuffle=False)  \n",
    "else:\n",
    "    dataloader_test = []\n",
    "    # dtu, 15 test scenes\n",
    "    if not args.test_general:\n",
    "        for scan in [24, 37, 40, 55, 63, 65, 69, 83, 97, 105, 106, 110, 114, 118, 122]:\n",
    "            \n",
    "            dataset_tmp = DtuFitSparse(root_dir=args.test_dir, \n",
    "                                split=\"test\", \n",
    "                                scan_id='scan%d'%scan, \n",
    "                                n_views=args.test_n_view,\n",
    "                                set=args.set)\n",
    "            dataloader_tmp = DataLoader(dataset_tmp,\n",
    "                                            batch_size=1, \n",
    "                                            num_workers=1, \n",
    "                                            shuffle=False)  \n",
    "            dataloader_test.append(dataloader_tmp)\n",
    "    else:\n",
    "        for scan in [\"scan1\"]:\n",
    "            \n",
    "            dataset_tmp = GeneralFit(root_dir=args.test_dir, \n",
    "                                scan_id=scan, \n",
    "                                n_views=args.test_n_view,\n",
    "                                n_randomly_generated_views=args.n_randomly_generated_views)\n",
    "            dataloader_tmp = DataLoader(dataset_tmp,\n",
    "                                            batch_size=1, \n",
    "                                            num_workers=1, \n",
    "                                            shuffle=False)  \n",
    "            dataloader_test.append(dataloader_tmp)\n",
    "\n",
    "# -------------------------------- lightning module -------------------------------\n",
    "if args.load_ckpt:\n",
    "    volrecon = VolRecon.load_from_checkpoint(checkpoint_path=args.load_ckpt, args=args)\n",
    "    print(\"Model loaded:\", args.load_ckpt)\n",
    "    for param in volrecon.parameters():\n",
    "        param.requires_grad = False\n",
    "else:\n",
    "    volrecon = VolRecon(args)\n",
    "\n",
    "\n",
    "\n"
   ]
  },
  {
   "cell_type": "code",
   "execution_count": 2,
   "metadata": {},
   "outputs": [
    {
     "name": "stderr",
     "output_type": "stream",
     "text": [
      "GPU available: True (cuda), used: True\n",
      "TPU available: False, using: 0 TPU cores\n",
      "IPU available: False, using: 0 IPUs\n",
      "HPU available: False, using: 0 HPUs\n",
      "  0%|          | 0/1 [00:00<?, ?it/s]You are using a CUDA device ('NVIDIA RTX A4000') that has Tensor Cores. To properly utilize them, you should set `torch.set_float32_matmul_precision('medium' | 'high')` which will trade-off precision for performance. For more details, read https://pytorch.org/docs/stable/generated/torch.set_float32_matmul_precision.html#torch.set_float32_matmul_precision\n"
     ]
    },
    {
     "name": "stderr",
     "output_type": "stream",
     "text": [
      "LOCAL_RANK: 0 - CUDA_VISIBLE_DEVICES: [0]\n",
      "/home/rozenberszki/.local/lib/python3.8/site-packages/pytorch_lightning/trainer/connectors/data_connector.py:224: PossibleUserWarning: The dataloader, val_dataloader 0, does not have many workers which may be a bottleneck. Consider increasing the value of the `num_workers` argument` (try 16 which is the number of cpus on this machine) in the `DataLoader` init to improve performance.\n",
      "  rank_zero_warn(\n"
     ]
    },
    {
     "data": {
      "application/vnd.jupyter.widget-view+json": {
       "model_id": "853ffcf8ef3c4dc6bf0dbc9c82c946fb",
       "version_major": 2,
       "version_minor": 0
      },
      "text/plain": [
       "Validation: 0it [00:00, ?it/s]"
      ]
     },
     "metadata": {},
     "output_type": "display_data"
    },
    {
     "name": "stdout",
     "output_type": "stream",
     "text": [
      "start extracting geometry\n"
     ]
    },
    {
     "name": "stderr",
     "output_type": "stream",
     "text": [
      "/home/rozenberszki/.local/lib/python3.8/site-packages/torch/nn/functional.py:4227: UserWarning: Default grid_sample and affine_grid behavior has changed to align_corners=False since 1.3.0. Please specify align_corners=True if the old behavior is desired. See the documentation of grid_sample for details.\n",
      "  warnings.warn(\n"
     ]
    },
    {
     "name": "stdout",
     "output_type": "stream",
     "text": [
      "1 1\n",
      "2 2\n",
      "3 3\n",
      "4 4\n",
      "5 5\n"
     ]
    },
    {
     "name": "stderr",
     "output_type": "stream",
     "text": []
    },
    {
     "name": "stdout",
     "output_type": "stream",
     "text": [
      "6 6\n",
      "7 7\n",
      "8 8\n",
      "9 9\n",
      "10 10\n"
     ]
    },
    {
     "name": "stderr",
     "output_type": "stream",
     "text": []
    },
    {
     "name": "stdout",
     "output_type": "stream",
     "text": [
      "11 11\n",
      "12 12\n",
      "13 13\n",
      "14 14\n",
      "15 15\n"
     ]
    },
    {
     "name": "stderr",
     "output_type": "stream",
     "text": []
    },
    {
     "name": "stdout",
     "output_type": "stream",
     "text": [
      "16 16\n",
      "17 17\n",
      "18 18\n",
      "19 19\n",
      "20 20\n"
     ]
    },
    {
     "name": "stderr",
     "output_type": "stream",
     "text": []
    },
    {
     "name": "stdout",
     "output_type": "stream",
     "text": [
      "21 21\n",
      "22 22\n",
      "23 23\n",
      "24 24\n",
      "25 25\n"
     ]
    },
    {
     "name": "stderr",
     "output_type": "stream",
     "text": []
    },
    {
     "name": "stdout",
     "output_type": "stream",
     "text": [
      "26 26\n",
      "27 27\n",
      "28 28\n",
      "29 29\n",
      "30 30\n"
     ]
    },
    {
     "name": "stderr",
     "output_type": "stream",
     "text": []
    },
    {
     "name": "stdout",
     "output_type": "stream",
     "text": [
      "31 31\n",
      "32 32\n",
      "33 33\n",
      "34 34\n",
      "35 35\n"
     ]
    },
    {
     "name": "stderr",
     "output_type": "stream",
     "text": []
    },
    {
     "name": "stdout",
     "output_type": "stream",
     "text": [
      "36 36\n",
      "37 37\n",
      "38 38\n",
      "39 39\n",
      "40 40\n"
     ]
    },
    {
     "name": "stderr",
     "output_type": "stream",
     "text": []
    },
    {
     "name": "stdout",
     "output_type": "stream",
     "text": [
      "41 41\n",
      "42 42\n",
      "43 43\n",
      "44 44\n",
      "45 45\n"
     ]
    },
    {
     "name": "stderr",
     "output_type": "stream",
     "text": []
    },
    {
     "name": "stdout",
     "output_type": "stream",
     "text": [
      "46 46\n",
      "47 47\n",
      "48 48\n",
      "49 49\n",
      "50 50\n"
     ]
    },
    {
     "name": "stderr",
     "output_type": "stream",
     "text": []
    },
    {
     "name": "stdout",
     "output_type": "stream",
     "text": [
      "51 51\n",
      "52 52\n",
      "53 53\n",
      "54 54\n",
      "55 55\n"
     ]
    },
    {
     "name": "stderr",
     "output_type": "stream",
     "text": []
    },
    {
     "name": "stdout",
     "output_type": "stream",
     "text": [
      "56 56\n",
      "57 57\n",
      "58 58\n",
      "59 59\n",
      "60 60\n"
     ]
    },
    {
     "name": "stderr",
     "output_type": "stream",
     "text": []
    },
    {
     "name": "stdout",
     "output_type": "stream",
     "text": [
      "61 61\n",
      "62 62\n",
      "63 63\n",
      "64 64\n",
      "65 65\n"
     ]
    },
    {
     "name": "stderr",
     "output_type": "stream",
     "text": []
    },
    {
     "name": "stdout",
     "output_type": "stream",
     "text": [
      "66 66\n",
      "67 67\n",
      "68 68\n",
      "69 69\n",
      "70 70\n"
     ]
    },
    {
     "name": "stderr",
     "output_type": "stream",
     "text": []
    },
    {
     "name": "stdout",
     "output_type": "stream",
     "text": [
      "71 71\n",
      "72 72\n",
      "73 73\n",
      "74 74\n",
      "75 75\n"
     ]
    },
    {
     "name": "stderr",
     "output_type": "stream",
     "text": []
    },
    {
     "name": "stdout",
     "output_type": "stream",
     "text": [
      "76 76\n",
      "77 77\n",
      "78 78\n",
      "79 79\n",
      "80 80\n"
     ]
    },
    {
     "name": "stderr",
     "output_type": "stream",
     "text": []
    },
    {
     "name": "stdout",
     "output_type": "stream",
     "text": [
      "81 81\n",
      "82 82\n",
      "83 83\n",
      "84 84\n",
      "85 85\n"
     ]
    },
    {
     "name": "stderr",
     "output_type": "stream",
     "text": []
    },
    {
     "name": "stdout",
     "output_type": "stream",
     "text": [
      "86 86\n",
      "87 87\n",
      "88 88\n",
      "89 89\n",
      "90 90\n"
     ]
    },
    {
     "name": "stderr",
     "output_type": "stream",
     "text": []
    },
    {
     "name": "stdout",
     "output_type": "stream",
     "text": [
      "91 91\n",
      "92 92\n",
      "93 93\n",
      "94 94\n",
      "95 95\n"
     ]
    },
    {
     "name": "stderr",
     "output_type": "stream",
     "text": []
    },
    {
     "name": "stdout",
     "output_type": "stream",
     "text": [
      "96 96\n",
      "97 97\n",
      "98 98\n",
      "99 99\n",
      "100 100\n"
     ]
    },
    {
     "name": "stderr",
     "output_type": "stream",
     "text": []
    },
    {
     "name": "stdout",
     "output_type": "stream",
     "text": [
      "101 101\n",
      "102 102\n",
      "103 103\n",
      "104 104\n",
      "105 105\n"
     ]
    },
    {
     "name": "stderr",
     "output_type": "stream",
     "text": []
    },
    {
     "name": "stdout",
     "output_type": "stream",
     "text": [
      "106 106\n",
      "107 107\n",
      "108 108\n",
      "109 109\n",
      "110 110\n"
     ]
    },
    {
     "name": "stderr",
     "output_type": "stream",
     "text": []
    },
    {
     "name": "stdout",
     "output_type": "stream",
     "text": [
      "111 111\n",
      "112 112\n",
      "113 113\n",
      "114 114\n",
      "115 115\n"
     ]
    },
    {
     "name": "stderr",
     "output_type": "stream",
     "text": []
    },
    {
     "name": "stdout",
     "output_type": "stream",
     "text": [
      "116 116\n",
      "117 117\n",
      "118 118\n",
      "119 119\n",
      "120 120\n"
     ]
    },
    {
     "name": "stderr",
     "output_type": "stream",
     "text": []
    },
    {
     "name": "stdout",
     "output_type": "stream",
     "text": [
      "121 121\n",
      "122 122\n",
      "123 123\n",
      "124 124\n",
      "125 125\n"
     ]
    },
    {
     "name": "stderr",
     "output_type": "stream",
     "text": []
    },
    {
     "name": "stdout",
     "output_type": "stream",
     "text": [
      "126 126\n",
      "127 127\n",
      "128 128\n",
      "129 129\n",
      "130 130\n"
     ]
    },
    {
     "name": "stderr",
     "output_type": "stream",
     "text": []
    },
    {
     "name": "stdout",
     "output_type": "stream",
     "text": [
      "131 131\n",
      "132 132\n",
      "133 133\n",
      "134 134\n",
      "135 135\n"
     ]
    },
    {
     "name": "stderr",
     "output_type": "stream",
     "text": []
    },
    {
     "name": "stdout",
     "output_type": "stream",
     "text": [
      "136 136\n",
      "137 137\n",
      "138 138\n",
      "139 139\n",
      "140 140\n"
     ]
    },
    {
     "name": "stderr",
     "output_type": "stream",
     "text": []
    },
    {
     "name": "stdout",
     "output_type": "stream",
     "text": [
      "141 141\n",
      "142 142\n",
      "143 143\n",
      "144 144\n",
      "145 145\n"
     ]
    },
    {
     "name": "stderr",
     "output_type": "stream",
     "text": []
    },
    {
     "name": "stdout",
     "output_type": "stream",
     "text": [
      "146 146\n",
      "147 147\n",
      "148 148\n",
      "149 149\n",
      "150 150\n"
     ]
    },
    {
     "name": "stderr",
     "output_type": "stream",
     "text": []
    },
    {
     "name": "stdout",
     "output_type": "stream",
     "text": [
      "151 151\n",
      "152 152\n",
      "153 153\n",
      "154 154\n",
      "155 155\n"
     ]
    },
    {
     "name": "stderr",
     "output_type": "stream",
     "text": []
    },
    {
     "name": "stdout",
     "output_type": "stream",
     "text": [
      "156 156\n",
      "157 157\n",
      "158 158\n",
      "159 159\n",
      "160 160\n"
     ]
    },
    {
     "name": "stderr",
     "output_type": "stream",
     "text": []
    },
    {
     "name": "stdout",
     "output_type": "stream",
     "text": [
      "161 161\n",
      "162 162\n",
      "163 163\n",
      "164 164\n",
      "165 165\n"
     ]
    },
    {
     "name": "stderr",
     "output_type": "stream",
     "text": []
    },
    {
     "name": "stdout",
     "output_type": "stream",
     "text": [
      "166 166\n",
      "167 167\n",
      "168 168\n",
      "169 169\n",
      "170 170\n"
     ]
    },
    {
     "name": "stderr",
     "output_type": "stream",
     "text": []
    },
    {
     "name": "stdout",
     "output_type": "stream",
     "text": [
      "171 171\n",
      "172 172\n",
      "173 173\n",
      "174 174\n",
      "175 175\n"
     ]
    },
    {
     "name": "stderr",
     "output_type": "stream",
     "text": []
    },
    {
     "name": "stdout",
     "output_type": "stream",
     "text": [
      "176 176\n",
      "177 177\n",
      "178 178\n",
      "179 179\n",
      "180 180\n"
     ]
    },
    {
     "name": "stderr",
     "output_type": "stream",
     "text": []
    },
    {
     "name": "stdout",
     "output_type": "stream",
     "text": [
      "181 181\n",
      "182 182\n",
      "183 183\n",
      "184 184\n",
      "185 185\n"
     ]
    },
    {
     "name": "stderr",
     "output_type": "stream",
     "text": []
    },
    {
     "name": "stdout",
     "output_type": "stream",
     "text": [
      "186 186\n",
      "187 187\n",
      "188 188\n",
      "189 189\n",
      "190 190\n"
     ]
    },
    {
     "name": "stderr",
     "output_type": "stream",
     "text": []
    },
    {
     "name": "stdout",
     "output_type": "stream",
     "text": [
      "191 191\n",
      "192 192\n",
      "193 193\n",
      "194 194\n",
      "195 195\n"
     ]
    },
    {
     "name": "stderr",
     "output_type": "stream",
     "text": []
    },
    {
     "name": "stdout",
     "output_type": "stream",
     "text": [
      "196 196\n",
      "197 197\n",
      "198 198\n",
      "199 199\n",
      "200 200\n"
     ]
    },
    {
     "name": "stderr",
     "output_type": "stream",
     "text": []
    },
    {
     "name": "stdout",
     "output_type": "stream",
     "text": [
      "201 201\n",
      "202 202\n",
      "203 203\n",
      "204 204\n",
      "205 205\n"
     ]
    },
    {
     "name": "stderr",
     "output_type": "stream",
     "text": []
    },
    {
     "name": "stdout",
     "output_type": "stream",
     "text": [
      "206 206\n",
      "207 207\n",
      "208 208\n",
      "209 209\n",
      "210 210\n"
     ]
    },
    {
     "name": "stderr",
     "output_type": "stream",
     "text": []
    },
    {
     "name": "stdout",
     "output_type": "stream",
     "text": [
      "211 211\n",
      "212 212\n",
      "213 213\n",
      "214 214\n",
      "215 215\n"
     ]
    },
    {
     "name": "stderr",
     "output_type": "stream",
     "text": []
    },
    {
     "name": "stdout",
     "output_type": "stream",
     "text": [
      "216 216\n",
      "217 217\n",
      "218 218\n",
      "219 219\n",
      "220 220\n"
     ]
    },
    {
     "name": "stderr",
     "output_type": "stream",
     "text": []
    },
    {
     "name": "stdout",
     "output_type": "stream",
     "text": [
      "221 221\n",
      "222 222\n",
      "223 223\n",
      "224 224\n",
      "225 225\n"
     ]
    },
    {
     "name": "stderr",
     "output_type": "stream",
     "text": []
    },
    {
     "name": "stdout",
     "output_type": "stream",
     "text": [
      "226 226\n",
      "227 227\n",
      "228 228\n",
      "229 229\n",
      "230 230\n"
     ]
    },
    {
     "name": "stderr",
     "output_type": "stream",
     "text": []
    },
    {
     "name": "stdout",
     "output_type": "stream",
     "text": [
      "231 231\n",
      "232 232\n",
      "233 233\n",
      "234 234\n",
      "235 235\n"
     ]
    },
    {
     "name": "stderr",
     "output_type": "stream",
     "text": []
    },
    {
     "name": "stdout",
     "output_type": "stream",
     "text": [
      "236 236\n",
      "237 237\n",
      "238 238\n",
      "239 239\n",
      "240 240\n"
     ]
    },
    {
     "name": "stderr",
     "output_type": "stream",
     "text": []
    },
    {
     "name": "stdout",
     "output_type": "stream",
     "text": [
      "241 241\n",
      "242 242\n",
      "243 243\n",
      "244 244\n",
      "245 245\n"
     ]
    },
    {
     "name": "stderr",
     "output_type": "stream",
     "text": []
    },
    {
     "name": "stdout",
     "output_type": "stream",
     "text": [
      "246 246\n",
      "247 247\n",
      "248 248\n",
      "249 249\n",
      "250 250\n"
     ]
    },
    {
     "name": "stderr",
     "output_type": "stream",
     "text": []
    },
    {
     "name": "stdout",
     "output_type": "stream",
     "text": [
      "251 251\n",
      "252 252\n",
      "253 253\n",
      "254 254\n",
      "255 255\n"
     ]
    },
    {
     "name": "stderr",
     "output_type": "stream",
     "text": []
    },
    {
     "name": "stdout",
     "output_type": "stream",
     "text": [
      "256 256\n",
      "257 257\n",
      "258 258\n",
      "259 259\n",
      "260 260\n"
     ]
    },
    {
     "name": "stderr",
     "output_type": "stream",
     "text": []
    },
    {
     "name": "stdout",
     "output_type": "stream",
     "text": [
      "261 261\n",
      "262 262\n",
      "263 263\n",
      "264 264\n",
      "265 265\n"
     ]
    },
    {
     "name": "stderr",
     "output_type": "stream",
     "text": []
    },
    {
     "name": "stdout",
     "output_type": "stream",
     "text": [
      "266 266\n",
      "267 267\n",
      "268 268\n",
      "269 269\n",
      "270 270\n"
     ]
    },
    {
     "name": "stderr",
     "output_type": "stream",
     "text": []
    },
    {
     "name": "stdout",
     "output_type": "stream",
     "text": [
      "271 271\n",
      "272 272\n",
      "273 273\n",
      "274 274\n",
      "275 275\n"
     ]
    },
    {
     "name": "stderr",
     "output_type": "stream",
     "text": []
    },
    {
     "name": "stdout",
     "output_type": "stream",
     "text": [
      "276 276\n",
      "277 277\n",
      "278 278\n",
      "279 279\n",
      "280 280\n"
     ]
    },
    {
     "name": "stderr",
     "output_type": "stream",
     "text": []
    },
    {
     "name": "stdout",
     "output_type": "stream",
     "text": [
      "281 281\n",
      "282 282\n",
      "283 283\n",
      "284 284\n",
      "285 285\n"
     ]
    },
    {
     "name": "stderr",
     "output_type": "stream",
     "text": []
    },
    {
     "name": "stdout",
     "output_type": "stream",
     "text": [
      "286 286\n",
      "287 287\n",
      "288 288\n",
      "289 289\n",
      "290 290\n"
     ]
    },
    {
     "name": "stderr",
     "output_type": "stream",
     "text": []
    },
    {
     "name": "stdout",
     "output_type": "stream",
     "text": [
      "291 291\n",
      "292 292\n",
      "293 293\n",
      "294 294\n",
      "295 295\n"
     ]
    },
    {
     "name": "stderr",
     "output_type": "stream",
     "text": []
    },
    {
     "name": "stdout",
     "output_type": "stream",
     "text": [
      "296 296\n",
      "297 297\n",
      "298 298\n",
      "299 299\n",
      "300 300\n"
     ]
    },
    {
     "name": "stderr",
     "output_type": "stream",
     "text": []
    },
    {
     "name": "stdout",
     "output_type": "stream",
     "text": [
      "301 301\n",
      "302 302\n",
      "303 303\n",
      "304 304\n",
      "305 305\n"
     ]
    },
    {
     "name": "stderr",
     "output_type": "stream",
     "text": []
    },
    {
     "name": "stdout",
     "output_type": "stream",
     "text": [
      "306 306\n",
      "307 307\n",
      "308 308\n",
      "309 309\n",
      "310 310\n"
     ]
    },
    {
     "name": "stderr",
     "output_type": "stream",
     "text": []
    },
    {
     "name": "stdout",
     "output_type": "stream",
     "text": [
      "311 311\n",
      "312 312\n",
      "313 313\n",
      "314 314\n",
      "315 315\n"
     ]
    },
    {
     "name": "stderr",
     "output_type": "stream",
     "text": []
    },
    {
     "name": "stdout",
     "output_type": "stream",
     "text": [
      "316 316\n",
      "317 317\n",
      "318 318\n",
      "319 319\n",
      "320 320\n"
     ]
    },
    {
     "name": "stderr",
     "output_type": "stream",
     "text": []
    },
    {
     "name": "stdout",
     "output_type": "stream",
     "text": [
      "321 321\n",
      "322 322\n",
      "323 323\n",
      "324 324\n",
      "325 325\n"
     ]
    },
    {
     "name": "stderr",
     "output_type": "stream",
     "text": []
    },
    {
     "name": "stdout",
     "output_type": "stream",
     "text": [
      "326 326\n",
      "327 327\n",
      "328 328\n",
      "329 329\n",
      "330 330\n"
     ]
    },
    {
     "name": "stderr",
     "output_type": "stream",
     "text": []
    },
    {
     "name": "stdout",
     "output_type": "stream",
     "text": [
      "331 331\n",
      "332 332\n",
      "333 333\n",
      "334 334\n",
      "335 335\n"
     ]
    },
    {
     "name": "stderr",
     "output_type": "stream",
     "text": []
    },
    {
     "name": "stdout",
     "output_type": "stream",
     "text": [
      "336 336\n",
      "337 337\n",
      "338 338\n",
      "339 339\n",
      "340 340\n"
     ]
    },
    {
     "name": "stderr",
     "output_type": "stream",
     "text": []
    },
    {
     "name": "stdout",
     "output_type": "stream",
     "text": [
      "341 341\n",
      "342 342\n",
      "343 343\n",
      "344 344\n",
      "345 345\n"
     ]
    },
    {
     "name": "stderr",
     "output_type": "stream",
     "text": []
    },
    {
     "name": "stdout",
     "output_type": "stream",
     "text": [
      "346 346\n",
      "347 347\n",
      "348 348\n",
      "349 349\n",
      "350 350\n"
     ]
    },
    {
     "name": "stderr",
     "output_type": "stream",
     "text": []
    },
    {
     "name": "stdout",
     "output_type": "stream",
     "text": [
      "351 351\n",
      "352 352\n",
      "353 353\n",
      "354 354\n",
      "355 355\n"
     ]
    },
    {
     "name": "stderr",
     "output_type": "stream",
     "text": []
    },
    {
     "name": "stdout",
     "output_type": "stream",
     "text": [
      "356 356\n",
      "357 357\n",
      "358 358\n",
      "359 359\n",
      "360 360\n"
     ]
    },
    {
     "name": "stderr",
     "output_type": "stream",
     "text": []
    },
    {
     "name": "stdout",
     "output_type": "stream",
     "text": [
      "361 361\n",
      "362 362\n",
      "363 363\n",
      "364 364\n",
      "365 365\n"
     ]
    },
    {
     "name": "stderr",
     "output_type": "stream",
     "text": []
    },
    {
     "name": "stdout",
     "output_type": "stream",
     "text": [
      "366 366\n",
      "367 367\n",
      "368 368\n",
      "369 369\n",
      "370 370\n"
     ]
    },
    {
     "name": "stderr",
     "output_type": "stream",
     "text": []
    },
    {
     "name": "stdout",
     "output_type": "stream",
     "text": [
      "371 371\n",
      "372 372\n",
      "373 373\n",
      "374 374\n",
      "375 375\n"
     ]
    },
    {
     "name": "stderr",
     "output_type": "stream",
     "text": []
    },
    {
     "name": "stdout",
     "output_type": "stream",
     "text": [
      "376 376\n",
      "377 377\n",
      "378 378\n",
      "379 379\n",
      "380 380\n"
     ]
    },
    {
     "name": "stderr",
     "output_type": "stream",
     "text": []
    },
    {
     "name": "stdout",
     "output_type": "stream",
     "text": [
      "381 381\n",
      "382 382\n",
      "383 383\n",
      "384 384\n",
      "385 385\n"
     ]
    },
    {
     "name": "stderr",
     "output_type": "stream",
     "text": []
    },
    {
     "name": "stdout",
     "output_type": "stream",
     "text": [
      "386 386\n",
      "387 387\n",
      "388 388\n",
      "389 389\n",
      "390 390\n"
     ]
    },
    {
     "name": "stderr",
     "output_type": "stream",
     "text": []
    },
    {
     "name": "stdout",
     "output_type": "stream",
     "text": [
      "391 391\n",
      "392 392\n",
      "393 393\n",
      "394 394\n",
      "395 395\n"
     ]
    },
    {
     "name": "stderr",
     "output_type": "stream",
     "text": []
    },
    {
     "name": "stdout",
     "output_type": "stream",
     "text": [
      "396 396\n",
      "397 397\n",
      "398 398\n",
      "399 399\n",
      "400 400\n"
     ]
    },
    {
     "name": "stderr",
     "output_type": "stream",
     "text": []
    },
    {
     "name": "stdout",
     "output_type": "stream",
     "text": [
      "401 401\n",
      "402 402\n",
      "403 403\n",
      "404 404\n",
      "405 405\n"
     ]
    },
    {
     "name": "stderr",
     "output_type": "stream",
     "text": []
    },
    {
     "name": "stdout",
     "output_type": "stream",
     "text": [
      "406 406\n",
      "407 407\n",
      "408 408\n",
      "409 409\n",
      "410 410\n"
     ]
    },
    {
     "name": "stderr",
     "output_type": "stream",
     "text": []
    },
    {
     "name": "stdout",
     "output_type": "stream",
     "text": [
      "411 411\n",
      "412 412\n",
      "413 413\n",
      "414 414\n",
      "415 415\n"
     ]
    },
    {
     "name": "stderr",
     "output_type": "stream",
     "text": []
    },
    {
     "name": "stdout",
     "output_type": "stream",
     "text": [
      "416 416\n",
      "417 417\n",
      "418 418\n",
      "419 419\n",
      "420 420\n"
     ]
    },
    {
     "name": "stderr",
     "output_type": "stream",
     "text": []
    },
    {
     "name": "stdout",
     "output_type": "stream",
     "text": [
      "421 421\n",
      "422 422\n",
      "423 423\n",
      "424 424\n",
      "425 425\n"
     ]
    },
    {
     "name": "stderr",
     "output_type": "stream",
     "text": []
    },
    {
     "name": "stdout",
     "output_type": "stream",
     "text": [
      "426 426\n",
      "427 427\n",
      "428 428\n",
      "429 429\n",
      "430 430\n"
     ]
    },
    {
     "name": "stderr",
     "output_type": "stream",
     "text": []
    },
    {
     "name": "stdout",
     "output_type": "stream",
     "text": [
      "431 431\n",
      "432 432\n",
      "433 433\n",
      "434 434\n",
      "435 435\n"
     ]
    },
    {
     "name": "stderr",
     "output_type": "stream",
     "text": []
    },
    {
     "name": "stdout",
     "output_type": "stream",
     "text": [
      "436 436\n",
      "437 437\n",
      "438 438\n",
      "439 439\n",
      "440 440\n"
     ]
    },
    {
     "name": "stderr",
     "output_type": "stream",
     "text": []
    },
    {
     "name": "stdout",
     "output_type": "stream",
     "text": [
      "441 441\n",
      "442 442\n",
      "443 443\n",
      "444 444\n",
      "445 445\n"
     ]
    },
    {
     "name": "stderr",
     "output_type": "stream",
     "text": []
    },
    {
     "name": "stdout",
     "output_type": "stream",
     "text": [
      "446 446\n",
      "447 447\n",
      "448 448\n",
      "449 449\n",
      "450 450\n"
     ]
    },
    {
     "name": "stderr",
     "output_type": "stream",
     "text": []
    },
    {
     "name": "stdout",
     "output_type": "stream",
     "text": [
      "451 451\n",
      "452 452\n",
      "453 453\n",
      "454 454\n",
      "455 455\n"
     ]
    },
    {
     "name": "stderr",
     "output_type": "stream",
     "text": []
    },
    {
     "name": "stdout",
     "output_type": "stream",
     "text": [
      "456 456\n",
      "457 457\n",
      "458 458\n",
      "459 459\n",
      "460 460\n"
     ]
    },
    {
     "name": "stderr",
     "output_type": "stream",
     "text": []
    },
    {
     "name": "stdout",
     "output_type": "stream",
     "text": [
      "461 461\n",
      "462 462\n",
      "463 463\n",
      "464 464\n",
      "465 465\n"
     ]
    },
    {
     "name": "stderr",
     "output_type": "stream",
     "text": []
    },
    {
     "name": "stdout",
     "output_type": "stream",
     "text": [
      "466 466\n",
      "467 467\n",
      "468 468\n",
      "469 469\n",
      "470 470\n"
     ]
    },
    {
     "name": "stderr",
     "output_type": "stream",
     "text": []
    },
    {
     "name": "stdout",
     "output_type": "stream",
     "text": [
      "471 471\n",
      "472 472\n",
      "473 473\n",
      "474 474\n",
      "475 475\n"
     ]
    },
    {
     "name": "stderr",
     "output_type": "stream",
     "text": []
    },
    {
     "name": "stdout",
     "output_type": "stream",
     "text": [
      "476 476\n",
      "477 477\n",
      "478 478\n",
      "479 479\n",
      "480 480\n"
     ]
    },
    {
     "name": "stderr",
     "output_type": "stream",
     "text": []
    },
    {
     "name": "stdout",
     "output_type": "stream",
     "text": [
      "481 481\n",
      "482 482\n",
      "483 483\n",
      "484 484\n",
      "485 485\n"
     ]
    },
    {
     "name": "stderr",
     "output_type": "stream",
     "text": []
    },
    {
     "name": "stdout",
     "output_type": "stream",
     "text": [
      "486 486\n",
      "487 487\n",
      "488 488\n",
      "489 489\n",
      "490 490\n"
     ]
    },
    {
     "name": "stderr",
     "output_type": "stream",
     "text": []
    },
    {
     "name": "stdout",
     "output_type": "stream",
     "text": [
      "491 491\n",
      "492 492\n",
      "493 493\n",
      "494 494\n",
      "495 495\n"
     ]
    },
    {
     "name": "stderr",
     "output_type": "stream",
     "text": []
    },
    {
     "name": "stdout",
     "output_type": "stream",
     "text": [
      "496 496\n",
      "497 497\n",
      "498 498\n",
      "499 499\n",
      "500 500\n"
     ]
    },
    {
     "name": "stderr",
     "output_type": "stream",
     "text": []
    },
    {
     "name": "stdout",
     "output_type": "stream",
     "text": [
      "501 501\n",
      "502 502\n",
      "503 503\n",
      "504 504\n",
      "505 505\n"
     ]
    },
    {
     "name": "stderr",
     "output_type": "stream",
     "text": []
    },
    {
     "name": "stdout",
     "output_type": "stream",
     "text": [
      "506 506\n",
      "507 507\n",
      "508 508\n",
      "509 509\n",
      "510 510\n"
     ]
    },
    {
     "name": "stderr",
     "output_type": "stream",
     "text": []
    },
    {
     "name": "stdout",
     "output_type": "stream",
     "text": [
      "511 511\n",
      "512 512\n",
      "513 513\n",
      "514 514\n",
      "515 515\n"
     ]
    },
    {
     "name": "stderr",
     "output_type": "stream",
     "text": []
    },
    {
     "name": "stdout",
     "output_type": "stream",
     "text": [
      "516 516\n",
      "517 517\n",
      "518 518\n",
      "519 519\n",
      "520 520\n"
     ]
    },
    {
     "name": "stderr",
     "output_type": "stream",
     "text": []
    },
    {
     "name": "stdout",
     "output_type": "stream",
     "text": [
      "521 521\n",
      "522 522\n",
      "523 523\n",
      "524 524\n",
      "525 525\n"
     ]
    },
    {
     "name": "stderr",
     "output_type": "stream",
     "text": []
    },
    {
     "name": "stdout",
     "output_type": "stream",
     "text": [
      "526 526\n",
      "527 527\n",
      "528 528\n",
      "529 529\n",
      "530 530\n"
     ]
    },
    {
     "name": "stderr",
     "output_type": "stream",
     "text": []
    },
    {
     "name": "stdout",
     "output_type": "stream",
     "text": [
      "531 531\n",
      "532 532\n",
      "533 533\n",
      "534 534\n",
      "535 535\n"
     ]
    },
    {
     "name": "stderr",
     "output_type": "stream",
     "text": []
    },
    {
     "name": "stdout",
     "output_type": "stream",
     "text": [
      "536 536\n",
      "537 537\n",
      "538 538\n",
      "539 539\n",
      "540 540\n"
     ]
    },
    {
     "name": "stderr",
     "output_type": "stream",
     "text": []
    },
    {
     "name": "stdout",
     "output_type": "stream",
     "text": [
      "541 541\n",
      "542 542\n",
      "543 543\n",
      "544 544\n",
      "545 545\n"
     ]
    },
    {
     "name": "stderr",
     "output_type": "stream",
     "text": []
    },
    {
     "name": "stdout",
     "output_type": "stream",
     "text": [
      "546 546\n",
      "547 547\n",
      "548 548\n",
      "549 549\n",
      "550 550\n"
     ]
    },
    {
     "name": "stderr",
     "output_type": "stream",
     "text": []
    },
    {
     "name": "stdout",
     "output_type": "stream",
     "text": [
      "551 551\n",
      "552 552\n",
      "553 553\n",
      "554 554\n",
      "555 555\n"
     ]
    },
    {
     "name": "stderr",
     "output_type": "stream",
     "text": []
    },
    {
     "name": "stdout",
     "output_type": "stream",
     "text": [
      "556 556\n",
      "557 557\n",
      "558 558\n",
      "559 559\n",
      "560 560\n"
     ]
    },
    {
     "name": "stderr",
     "output_type": "stream",
     "text": []
    },
    {
     "name": "stdout",
     "output_type": "stream",
     "text": [
      "561 561\n",
      "562 562\n",
      "563 563\n",
      "564 564\n",
      "565 565\n"
     ]
    },
    {
     "name": "stderr",
     "output_type": "stream",
     "text": []
    },
    {
     "name": "stdout",
     "output_type": "stream",
     "text": [
      "566 566\n",
      "567 567\n",
      "568 568\n",
      "569 569\n",
      "570 570\n"
     ]
    },
    {
     "name": "stderr",
     "output_type": "stream",
     "text": []
    },
    {
     "name": "stdout",
     "output_type": "stream",
     "text": [
      "571 571\n",
      "572 572\n",
      "573 573\n",
      "574 574\n",
      "575 575\n"
     ]
    },
    {
     "name": "stderr",
     "output_type": "stream",
     "text": []
    },
    {
     "name": "stdout",
     "output_type": "stream",
     "text": [
      "576 576\n",
      "577 577\n",
      "578 578\n",
      "579 579\n",
      "580 580\n"
     ]
    },
    {
     "name": "stderr",
     "output_type": "stream",
     "text": []
    },
    {
     "name": "stdout",
     "output_type": "stream",
     "text": [
      "581 581\n",
      "582 582\n",
      "583 583\n",
      "584 584\n",
      "585 585\n"
     ]
    },
    {
     "name": "stderr",
     "output_type": "stream",
     "text": []
    },
    {
     "name": "stdout",
     "output_type": "stream",
     "text": [
      "586 586\n",
      "587 587\n",
      "588 588\n",
      "589 589\n",
      "590 590\n"
     ]
    },
    {
     "name": "stderr",
     "output_type": "stream",
     "text": []
    },
    {
     "name": "stdout",
     "output_type": "stream",
     "text": [
      "591 591\n",
      "592 592\n",
      "593 593\n",
      "594 594\n",
      "595 595\n"
     ]
    },
    {
     "name": "stderr",
     "output_type": "stream",
     "text": []
    },
    {
     "name": "stdout",
     "output_type": "stream",
     "text": [
      "596 596\n",
      "597 597\n",
      "598 598\n",
      "599 599\n",
      "600 600\n"
     ]
    },
    {
     "name": "stderr",
     "output_type": "stream",
     "text": []
    },
    {
     "name": "stdout",
     "output_type": "stream",
     "text": [
      "601 601\n",
      "602 602\n",
      "603 603\n",
      "604 604\n",
      "605 605\n"
     ]
    },
    {
     "name": "stderr",
     "output_type": "stream",
     "text": []
    },
    {
     "name": "stdout",
     "output_type": "stream",
     "text": [
      "606 606\n",
      "607 607\n",
      "608 608\n",
      "609 609\n",
      "610 610\n"
     ]
    },
    {
     "name": "stderr",
     "output_type": "stream",
     "text": []
    },
    {
     "name": "stdout",
     "output_type": "stream",
     "text": [
      "611 611\n",
      "612 612\n",
      "613 613\n",
      "614 614\n",
      "615 615\n"
     ]
    },
    {
     "name": "stderr",
     "output_type": "stream",
     "text": []
    },
    {
     "name": "stdout",
     "output_type": "stream",
     "text": [
      "616 616\n",
      "617 617\n",
      "618 618\n",
      "619 619\n",
      "620 620\n"
     ]
    },
    {
     "name": "stderr",
     "output_type": "stream",
     "text": []
    },
    {
     "name": "stdout",
     "output_type": "stream",
     "text": [
      "621 621\n",
      "622 622\n",
      "623 623\n",
      "624 624\n",
      "625 625\n"
     ]
    },
    {
     "name": "stderr",
     "output_type": "stream",
     "text": []
    },
    {
     "name": "stdout",
     "output_type": "stream",
     "text": [
      "626 626\n",
      "627 627\n",
      "628 628\n",
      "629 629\n",
      "630 630\n"
     ]
    },
    {
     "name": "stderr",
     "output_type": "stream",
     "text": []
    },
    {
     "name": "stdout",
     "output_type": "stream",
     "text": [
      "631 631\n",
      "632 632\n",
      "633 633\n",
      "634 634\n",
      "635 635\n"
     ]
    },
    {
     "name": "stderr",
     "output_type": "stream",
     "text": []
    },
    {
     "name": "stdout",
     "output_type": "stream",
     "text": [
      "636 636\n",
      "637 637\n",
      "638 638\n",
      "639 639\n",
      "640 640\n"
     ]
    },
    {
     "name": "stderr",
     "output_type": "stream",
     "text": []
    },
    {
     "name": "stdout",
     "output_type": "stream",
     "text": [
      "641 641\n",
      "642 642\n",
      "643 643\n",
      "644 644\n",
      "645 645\n"
     ]
    },
    {
     "name": "stderr",
     "output_type": "stream",
     "text": []
    },
    {
     "name": "stdout",
     "output_type": "stream",
     "text": [
      "646 646\n",
      "647 647\n",
      "648 648\n",
      "649 649\n",
      "650 650\n"
     ]
    },
    {
     "name": "stderr",
     "output_type": "stream",
     "text": []
    },
    {
     "name": "stdout",
     "output_type": "stream",
     "text": [
      "651 651\n",
      "652 652\n",
      "653 653\n",
      "654 654\n",
      "655 655\n"
     ]
    },
    {
     "name": "stderr",
     "output_type": "stream",
     "text": []
    },
    {
     "name": "stdout",
     "output_type": "stream",
     "text": [
      "656 656\n",
      "657 657\n",
      "658 658\n",
      "659 659\n",
      "660 660\n"
     ]
    },
    {
     "name": "stderr",
     "output_type": "stream",
     "text": []
    },
    {
     "name": "stdout",
     "output_type": "stream",
     "text": [
      "661 661\n",
      "662 662\n",
      "663 663\n",
      "664 664\n",
      "665 665\n"
     ]
    },
    {
     "name": "stderr",
     "output_type": "stream",
     "text": []
    },
    {
     "name": "stdout",
     "output_type": "stream",
     "text": [
      "666 666\n",
      "667 667\n",
      "668 668\n",
      "669 669\n",
      "670 670\n"
     ]
    },
    {
     "name": "stderr",
     "output_type": "stream",
     "text": []
    },
    {
     "name": "stdout",
     "output_type": "stream",
     "text": [
      "671 671\n",
      "672 672\n",
      "673 673\n",
      "674 674\n",
      "675 675\n"
     ]
    },
    {
     "name": "stderr",
     "output_type": "stream",
     "text": []
    },
    {
     "name": "stdout",
     "output_type": "stream",
     "text": [
      "676 676\n",
      "677 677\n",
      "678 678\n",
      "679 679\n",
      "680 680\n"
     ]
    },
    {
     "name": "stderr",
     "output_type": "stream",
     "text": []
    },
    {
     "name": "stdout",
     "output_type": "stream",
     "text": [
      "681 681\n",
      "682 682\n",
      "683 683\n",
      "684 684\n",
      "685 685\n"
     ]
    },
    {
     "name": "stderr",
     "output_type": "stream",
     "text": []
    },
    {
     "name": "stdout",
     "output_type": "stream",
     "text": [
      "686 686\n",
      "687 687\n",
      "688 688\n",
      "689 689\n",
      "690 690\n"
     ]
    },
    {
     "name": "stderr",
     "output_type": "stream",
     "text": []
    },
    {
     "name": "stdout",
     "output_type": "stream",
     "text": [
      "691 691\n",
      "692 692\n",
      "693 693\n",
      "694 694\n",
      "695 695\n"
     ]
    },
    {
     "name": "stderr",
     "output_type": "stream",
     "text": []
    },
    {
     "name": "stdout",
     "output_type": "stream",
     "text": [
      "696 696\n",
      "697 697\n",
      "698 698\n",
      "699 699\n",
      "700 700\n"
     ]
    },
    {
     "name": "stderr",
     "output_type": "stream",
     "text": []
    },
    {
     "name": "stdout",
     "output_type": "stream",
     "text": [
      "701 701\n",
      "702 702\n",
      "703 703\n",
      "704 704\n",
      "705 705\n"
     ]
    },
    {
     "name": "stderr",
     "output_type": "stream",
     "text": []
    },
    {
     "name": "stdout",
     "output_type": "stream",
     "text": [
      "706 706\n",
      "707 707\n",
      "708 708\n",
      "709 709\n",
      "710 710\n"
     ]
    },
    {
     "name": "stderr",
     "output_type": "stream",
     "text": []
    },
    {
     "name": "stdout",
     "output_type": "stream",
     "text": [
      "711 711\n",
      "712 712\n",
      "713 713\n",
      "714 714\n",
      "715 715\n"
     ]
    },
    {
     "name": "stderr",
     "output_type": "stream",
     "text": []
    },
    {
     "name": "stdout",
     "output_type": "stream",
     "text": [
      "716 716\n",
      "717 717\n",
      "718 718\n",
      "719 719\n",
      "720 720\n"
     ]
    },
    {
     "name": "stderr",
     "output_type": "stream",
     "text": []
    },
    {
     "name": "stdout",
     "output_type": "stream",
     "text": [
      "721 721\n",
      "722 722\n",
      "723 723\n",
      "724 724\n",
      "725 725\n"
     ]
    },
    {
     "name": "stderr",
     "output_type": "stream",
     "text": []
    },
    {
     "name": "stdout",
     "output_type": "stream",
     "text": [
      "726 726\n",
      "727 727\n",
      "728 728\n",
      "729 729\n",
      "730 730\n"
     ]
    },
    {
     "name": "stderr",
     "output_type": "stream",
     "text": []
    },
    {
     "name": "stdout",
     "output_type": "stream",
     "text": [
      "731 731\n",
      "732 732\n",
      "733 733\n",
      "734 734\n",
      "735 735\n"
     ]
    },
    {
     "name": "stderr",
     "output_type": "stream",
     "text": []
    },
    {
     "name": "stdout",
     "output_type": "stream",
     "text": [
      "736 736\n",
      "737 737\n",
      "738 738\n",
      "739 739\n",
      "740 740\n"
     ]
    },
    {
     "name": "stderr",
     "output_type": "stream",
     "text": []
    },
    {
     "name": "stdout",
     "output_type": "stream",
     "text": [
      "741 741\n",
      "742 742\n",
      "743 743\n",
      "744 744\n",
      "745 745\n"
     ]
    },
    {
     "name": "stderr",
     "output_type": "stream",
     "text": []
    },
    {
     "name": "stdout",
     "output_type": "stream",
     "text": [
      "746 746\n",
      "747 747\n",
      "748 748\n",
      "749 749\n",
      "750 750\n"
     ]
    },
    {
     "name": "stderr",
     "output_type": "stream",
     "text": []
    },
    {
     "name": "stdout",
     "output_type": "stream",
     "text": [
      "751 751\n",
      "752 752\n",
      "753 753\n",
      "754 754\n",
      "755 755\n"
     ]
    },
    {
     "name": "stderr",
     "output_type": "stream",
     "text": []
    },
    {
     "name": "stdout",
     "output_type": "stream",
     "text": [
      "756 756\n",
      "757 757\n",
      "758 758\n",
      "759 759\n",
      "760 760\n"
     ]
    },
    {
     "name": "stderr",
     "output_type": "stream",
     "text": []
    },
    {
     "name": "stdout",
     "output_type": "stream",
     "text": [
      "761 761\n",
      "762 762\n",
      "763 763\n",
      "764 764\n",
      "765 765\n"
     ]
    },
    {
     "name": "stderr",
     "output_type": "stream",
     "text": []
    },
    {
     "name": "stdout",
     "output_type": "stream",
     "text": [
      "766 766\n",
      "767 767\n",
      "768 768\n",
      "769 769\n",
      "770 770\n"
     ]
    },
    {
     "name": "stderr",
     "output_type": "stream",
     "text": []
    },
    {
     "name": "stdout",
     "output_type": "stream",
     "text": [
      "771 771\n",
      "772 772\n",
      "773 773\n",
      "774 774\n",
      "775 775\n"
     ]
    },
    {
     "name": "stderr",
     "output_type": "stream",
     "text": []
    },
    {
     "name": "stdout",
     "output_type": "stream",
     "text": [
      "776 776\n",
      "777 777\n",
      "778 778\n",
      "779 779\n",
      "780 780\n"
     ]
    },
    {
     "name": "stderr",
     "output_type": "stream",
     "text": []
    },
    {
     "name": "stdout",
     "output_type": "stream",
     "text": [
      "781 781\n",
      "782 782\n",
      "783 783\n",
      "784 784\n",
      "785 785\n"
     ]
    },
    {
     "name": "stderr",
     "output_type": "stream",
     "text": []
    },
    {
     "name": "stdout",
     "output_type": "stream",
     "text": [
      "786 786\n",
      "787 787\n",
      "788 788\n",
      "789 789\n",
      "790 790\n"
     ]
    },
    {
     "name": "stderr",
     "output_type": "stream",
     "text": []
    },
    {
     "name": "stdout",
     "output_type": "stream",
     "text": [
      "791 791\n",
      "792 792\n",
      "793 793\n",
      "794 794\n",
      "795 795\n"
     ]
    },
    {
     "name": "stderr",
     "output_type": "stream",
     "text": []
    },
    {
     "name": "stdout",
     "output_type": "stream",
     "text": [
      "796 796\n",
      "797 797\n",
      "798 798\n",
      "799 799\n",
      "800 800\n"
     ]
    },
    {
     "name": "stderr",
     "output_type": "stream",
     "text": []
    },
    {
     "name": "stdout",
     "output_type": "stream",
     "text": [
      "801 801\n",
      "802 802\n",
      "803 803\n",
      "804 804\n",
      "805 805\n"
     ]
    },
    {
     "name": "stderr",
     "output_type": "stream",
     "text": []
    },
    {
     "name": "stdout",
     "output_type": "stream",
     "text": [
      "806 806\n",
      "807 807\n",
      "808 808\n",
      "809 809\n",
      "810 810\n"
     ]
    },
    {
     "name": "stderr",
     "output_type": "stream",
     "text": []
    },
    {
     "name": "stdout",
     "output_type": "stream",
     "text": [
      "811 811\n",
      "812 812\n",
      "813 813\n",
      "814 814\n",
      "815 815\n"
     ]
    },
    {
     "name": "stderr",
     "output_type": "stream",
     "text": []
    },
    {
     "name": "stdout",
     "output_type": "stream",
     "text": [
      "816 816\n",
      "817 817\n",
      "818 818\n",
      "819 819\n",
      "820 820\n"
     ]
    },
    {
     "name": "stderr",
     "output_type": "stream",
     "text": []
    },
    {
     "name": "stdout",
     "output_type": "stream",
     "text": [
      "821 821\n",
      "822 822\n",
      "823 823\n",
      "824 824\n",
      "825 825\n"
     ]
    },
    {
     "name": "stderr",
     "output_type": "stream",
     "text": []
    },
    {
     "name": "stdout",
     "output_type": "stream",
     "text": [
      "826 826\n",
      "827 827\n",
      "828 828\n",
      "829 829\n",
      "830 830\n"
     ]
    },
    {
     "name": "stderr",
     "output_type": "stream",
     "text": []
    },
    {
     "name": "stdout",
     "output_type": "stream",
     "text": [
      "831 831\n",
      "832 832\n",
      "833 833\n",
      "834 834\n",
      "835 835\n"
     ]
    },
    {
     "name": "stderr",
     "output_type": "stream",
     "text": []
    },
    {
     "name": "stdout",
     "output_type": "stream",
     "text": [
      "836 836\n",
      "837 837\n",
      "838 838\n",
      "839 839\n",
      "840 840\n"
     ]
    },
    {
     "name": "stderr",
     "output_type": "stream",
     "text": []
    },
    {
     "name": "stdout",
     "output_type": "stream",
     "text": [
      "841 841\n",
      "842 842\n",
      "843 843\n",
      "844 844\n",
      "845 845\n"
     ]
    },
    {
     "name": "stderr",
     "output_type": "stream",
     "text": []
    },
    {
     "name": "stdout",
     "output_type": "stream",
     "text": [
      "846 846\n",
      "847 847\n",
      "848 848\n",
      "849 849\n",
      "850 850\n"
     ]
    },
    {
     "name": "stderr",
     "output_type": "stream",
     "text": []
    },
    {
     "name": "stdout",
     "output_type": "stream",
     "text": [
      "851 851\n",
      "852 852\n",
      "853 853\n",
      "854 854\n",
      "855 855\n"
     ]
    },
    {
     "name": "stderr",
     "output_type": "stream",
     "text": []
    },
    {
     "name": "stdout",
     "output_type": "stream",
     "text": [
      "856 856\n",
      "857 857\n",
      "858 858\n",
      "859 859\n",
      "860 860\n"
     ]
    },
    {
     "name": "stderr",
     "output_type": "stream",
     "text": []
    },
    {
     "name": "stdout",
     "output_type": "stream",
     "text": [
      "861 861\n",
      "862 862\n",
      "863 863\n",
      "864 864\n",
      "865 865\n"
     ]
    },
    {
     "name": "stderr",
     "output_type": "stream",
     "text": []
    },
    {
     "name": "stdout",
     "output_type": "stream",
     "text": [
      "866 866\n",
      "867 867\n",
      "868 868\n",
      "869 869\n",
      "870 870\n"
     ]
    },
    {
     "name": "stderr",
     "output_type": "stream",
     "text": []
    },
    {
     "name": "stdout",
     "output_type": "stream",
     "text": [
      "871 871\n",
      "872 872\n",
      "873 873\n",
      "874 874\n",
      "875 875\n"
     ]
    },
    {
     "name": "stderr",
     "output_type": "stream",
     "text": []
    },
    {
     "name": "stdout",
     "output_type": "stream",
     "text": [
      "876 876\n",
      "877 877\n",
      "878 878\n",
      "879 879\n",
      "880 880\n"
     ]
    },
    {
     "name": "stderr",
     "output_type": "stream",
     "text": []
    },
    {
     "name": "stdout",
     "output_type": "stream",
     "text": [
      "881 881\n",
      "882 882\n",
      "883 883\n",
      "884 884\n",
      "885 885\n"
     ]
    },
    {
     "name": "stderr",
     "output_type": "stream",
     "text": []
    },
    {
     "name": "stdout",
     "output_type": "stream",
     "text": [
      "886 886\n",
      "887 887\n",
      "888 888\n",
      "889 889\n",
      "890 890\n"
     ]
    },
    {
     "name": "stderr",
     "output_type": "stream",
     "text": []
    },
    {
     "name": "stdout",
     "output_type": "stream",
     "text": [
      "891 891\n",
      "892 892\n",
      "893 893\n",
      "894 894\n",
      "895 895\n"
     ]
    },
    {
     "name": "stderr",
     "output_type": "stream",
     "text": []
    },
    {
     "name": "stdout",
     "output_type": "stream",
     "text": [
      "896 896\n",
      "897 897\n",
      "898 898\n",
      "899 899\n",
      "900 900\n"
     ]
    },
    {
     "name": "stderr",
     "output_type": "stream",
     "text": []
    },
    {
     "name": "stdout",
     "output_type": "stream",
     "text": [
      "901 901\n",
      "902 902\n",
      "903 903\n",
      "904 904\n",
      "905 905\n"
     ]
    },
    {
     "name": "stderr",
     "output_type": "stream",
     "text": []
    },
    {
     "name": "stdout",
     "output_type": "stream",
     "text": [
      "906 906\n",
      "907 907\n",
      "908 908\n",
      "909 909\n",
      "910 910\n"
     ]
    },
    {
     "name": "stderr",
     "output_type": "stream",
     "text": []
    },
    {
     "name": "stdout",
     "output_type": "stream",
     "text": [
      "911 911\n",
      "912 912\n",
      "913 913\n",
      "914 914\n",
      "915 915\n"
     ]
    },
    {
     "name": "stderr",
     "output_type": "stream",
     "text": []
    },
    {
     "name": "stdout",
     "output_type": "stream",
     "text": [
      "916 916\n",
      "917 917\n",
      "918 918\n",
      "919 919\n",
      "920 920\n"
     ]
    },
    {
     "name": "stderr",
     "output_type": "stream",
     "text": []
    },
    {
     "name": "stdout",
     "output_type": "stream",
     "text": [
      "921 921\n",
      "922 922\n",
      "923 923\n",
      "924 924\n",
      "925 925\n"
     ]
    },
    {
     "name": "stderr",
     "output_type": "stream",
     "text": []
    },
    {
     "name": "stdout",
     "output_type": "stream",
     "text": [
      "926 926\n",
      "927 927\n",
      "928 928\n",
      "929 929\n",
      "930 930\n"
     ]
    },
    {
     "name": "stderr",
     "output_type": "stream",
     "text": []
    },
    {
     "name": "stdout",
     "output_type": "stream",
     "text": [
      "931 931\n",
      "932 932\n",
      "933 933\n",
      "934 934\n",
      "935 935\n"
     ]
    },
    {
     "name": "stderr",
     "output_type": "stream",
     "text": []
    },
    {
     "name": "stdout",
     "output_type": "stream",
     "text": [
      "936 936\n",
      "937 937\n",
      "938 938\n",
      "939 939\n",
      "940 940\n"
     ]
    },
    {
     "name": "stderr",
     "output_type": "stream",
     "text": []
    },
    {
     "name": "stdout",
     "output_type": "stream",
     "text": [
      "941 941\n",
      "942 942\n",
      "943 943\n",
      "944 944\n",
      "945 945\n"
     ]
    },
    {
     "name": "stderr",
     "output_type": "stream",
     "text": []
    },
    {
     "name": "stdout",
     "output_type": "stream",
     "text": [
      "946 946\n",
      "947 947\n",
      "948 948\n",
      "949 949\n",
      "950 950\n"
     ]
    },
    {
     "name": "stderr",
     "output_type": "stream",
     "text": []
    },
    {
     "name": "stdout",
     "output_type": "stream",
     "text": [
      "951 951\n",
      "952 952\n",
      "953 953\n",
      "954 954\n",
      "955 955\n"
     ]
    },
    {
     "name": "stderr",
     "output_type": "stream",
     "text": []
    },
    {
     "name": "stdout",
     "output_type": "stream",
     "text": [
      "956 956\n",
      "957 957\n",
      "958 958\n",
      "959 959\n",
      "960 960\n"
     ]
    },
    {
     "name": "stderr",
     "output_type": "stream",
     "text": []
    },
    {
     "name": "stdout",
     "output_type": "stream",
     "text": [
      "961 961\n",
      "962 962\n",
      "963 963\n",
      "964 964\n",
      "965 965\n"
     ]
    },
    {
     "name": "stderr",
     "output_type": "stream",
     "text": []
    },
    {
     "name": "stdout",
     "output_type": "stream",
     "text": [
      "966 966\n",
      "967 967\n",
      "968 968\n",
      "969 969\n",
      "970 970\n"
     ]
    },
    {
     "name": "stderr",
     "output_type": "stream",
     "text": []
    },
    {
     "name": "stdout",
     "output_type": "stream",
     "text": [
      "971 971\n",
      "972 972\n",
      "973 973\n",
      "974 974\n",
      "975 975\n"
     ]
    },
    {
     "name": "stderr",
     "output_type": "stream",
     "text": []
    },
    {
     "name": "stdout",
     "output_type": "stream",
     "text": [
      "976 976\n",
      "977 977\n",
      "978 978\n",
      "979 979\n",
      "980 980\n"
     ]
    },
    {
     "name": "stderr",
     "output_type": "stream",
     "text": []
    },
    {
     "name": "stdout",
     "output_type": "stream",
     "text": [
      "981 981\n",
      "982 982\n",
      "983 983\n",
      "984 984\n",
      "985 985\n"
     ]
    },
    {
     "name": "stderr",
     "output_type": "stream",
     "text": []
    },
    {
     "name": "stdout",
     "output_type": "stream",
     "text": [
      "986 986\n",
      "987 987\n",
      "988 988\n",
      "989 989\n",
      "990 990\n"
     ]
    },
    {
     "name": "stderr",
     "output_type": "stream",
     "text": []
    },
    {
     "name": "stdout",
     "output_type": "stream",
     "text": [
      "991 991\n",
      "992 992\n",
      "993 993\n",
      "994 994\n",
      "995 995\n"
     ]
    },
    {
     "name": "stderr",
     "output_type": "stream",
     "text": []
    },
    {
     "name": "stdout",
     "output_type": "stream",
     "text": [
      "996 996\n",
      "997 997\n",
      "998 998\n",
      "999 999\n",
      "1000 1000\n"
     ]
    },
    {
     "name": "stderr",
     "output_type": "stream",
     "text": []
    },
    {
     "name": "stdout",
     "output_type": "stream",
     "text": [
      "1001 1001\n",
      "1002 1002\n",
      "1003 1003\n",
      "1004 1004\n",
      "1005 1005\n"
     ]
    },
    {
     "name": "stderr",
     "output_type": "stream",
     "text": []
    },
    {
     "name": "stdout",
     "output_type": "stream",
     "text": [
      "1006 1006\n",
      "1007 1007\n",
      "1008 1008\n",
      "1009 1009\n",
      "1010 1010\n"
     ]
    },
    {
     "name": "stderr",
     "output_type": "stream",
     "text": []
    },
    {
     "name": "stdout",
     "output_type": "stream",
     "text": [
      "1011 1011\n",
      "1012 1012\n",
      "1013 1013\n",
      "1014 1014\n",
      "1015 1015\n"
     ]
    },
    {
     "name": "stderr",
     "output_type": "stream",
     "text": []
    },
    {
     "name": "stdout",
     "output_type": "stream",
     "text": [
      "1016 1016\n",
      "1017 1017\n",
      "1018 1018\n",
      "1019 1019\n",
      "1020 1020\n"
     ]
    },
    {
     "name": "stderr",
     "output_type": "stream",
     "text": []
    },
    {
     "name": "stdout",
     "output_type": "stream",
     "text": [
      "1021 1021\n",
      "1022 1022\n",
      "1023 1023\n",
      "1024 1024\n",
      "1025 1025\n"
     ]
    },
    {
     "name": "stderr",
     "output_type": "stream",
     "text": []
    },
    {
     "name": "stdout",
     "output_type": "stream",
     "text": [
      "1026 1026\n",
      "1027 1027\n",
      "1028 1028\n",
      "1029 1029\n",
      "1030 1030\n"
     ]
    },
    {
     "name": "stderr",
     "output_type": "stream",
     "text": []
    },
    {
     "name": "stdout",
     "output_type": "stream",
     "text": [
      "1031 1031\n",
      "1032 1032\n",
      "1033 1033\n",
      "1034 1034\n",
      "1035 1035\n"
     ]
    },
    {
     "name": "stderr",
     "output_type": "stream",
     "text": []
    },
    {
     "name": "stdout",
     "output_type": "stream",
     "text": [
      "1036 1036\n",
      "1037 1037\n",
      "1038 1038\n",
      "1039 1039\n",
      "1040 1040\n"
     ]
    },
    {
     "name": "stderr",
     "output_type": "stream",
     "text": []
    },
    {
     "name": "stdout",
     "output_type": "stream",
     "text": [
      "1041 1041\n",
      "1042 1042\n",
      "1043 1043\n",
      "1044 1044\n",
      "1045 1045\n"
     ]
    },
    {
     "name": "stderr",
     "output_type": "stream",
     "text": []
    },
    {
     "name": "stdout",
     "output_type": "stream",
     "text": [
      "1046 1046\n",
      "1047 1047\n",
      "1048 1048\n",
      "1049 1049\n",
      "1050 1050\n"
     ]
    },
    {
     "name": "stderr",
     "output_type": "stream",
     "text": []
    },
    {
     "name": "stdout",
     "output_type": "stream",
     "text": [
      "1051 1051\n",
      "1052 1052\n",
      "1053 1053\n",
      "1054 1054\n",
      "1055 1055\n"
     ]
    },
    {
     "name": "stderr",
     "output_type": "stream",
     "text": []
    },
    {
     "name": "stdout",
     "output_type": "stream",
     "text": [
      "1056 1056\n",
      "1057 1057\n",
      "1058 1058\n",
      "1059 1059\n",
      "1060 1060\n"
     ]
    },
    {
     "name": "stderr",
     "output_type": "stream",
     "text": []
    },
    {
     "name": "stdout",
     "output_type": "stream",
     "text": [
      "1061 1061\n",
      "1062 1062\n",
      "1063 1063\n",
      "1064 1064\n",
      "1065 1065\n"
     ]
    },
    {
     "name": "stderr",
     "output_type": "stream",
     "text": []
    },
    {
     "name": "stdout",
     "output_type": "stream",
     "text": [
      "1066 1066\n",
      "1067 1067\n",
      "1068 1068\n",
      "1069 1069\n",
      "1070 1070\n"
     ]
    },
    {
     "name": "stderr",
     "output_type": "stream",
     "text": []
    },
    {
     "name": "stdout",
     "output_type": "stream",
     "text": [
      "1071 1071\n",
      "1072 1072\n",
      "1073 1073\n",
      "1074 1074\n",
      "1075 1075\n"
     ]
    },
    {
     "name": "stderr",
     "output_type": "stream",
     "text": []
    },
    {
     "name": "stdout",
     "output_type": "stream",
     "text": [
      "1076 1076\n",
      "1077 1077\n",
      "1078 1078\n",
      "1079 1079\n",
      "1080 1080\n"
     ]
    },
    {
     "name": "stderr",
     "output_type": "stream",
     "text": []
    },
    {
     "name": "stdout",
     "output_type": "stream",
     "text": [
      "1081 1081\n",
      "1082 1082\n",
      "1083 1083\n",
      "1084 1084\n",
      "1085 1085\n"
     ]
    },
    {
     "name": "stderr",
     "output_type": "stream",
     "text": []
    },
    {
     "name": "stdout",
     "output_type": "stream",
     "text": [
      "1086 1086\n",
      "1087 1087\n",
      "1088 1088\n",
      "1089 1089\n",
      "1090 1090\n"
     ]
    },
    {
     "name": "stderr",
     "output_type": "stream",
     "text": []
    },
    {
     "name": "stdout",
     "output_type": "stream",
     "text": [
      "1091 1091\n",
      "1092 1092\n",
      "1093 1093\n",
      "1094 1094\n",
      "1095 1095\n"
     ]
    },
    {
     "name": "stderr",
     "output_type": "stream",
     "text": []
    },
    {
     "name": "stdout",
     "output_type": "stream",
     "text": [
      "1096 1096\n",
      "1097 1097\n",
      "1098 1098\n",
      "1099 1099\n",
      "1100 1100\n"
     ]
    },
    {
     "name": "stderr",
     "output_type": "stream",
     "text": []
    },
    {
     "name": "stdout",
     "output_type": "stream",
     "text": [
      "1101 1101\n",
      "1102 1102\n",
      "1103 1103\n",
      "1104 1104\n",
      "1105 1105\n"
     ]
    },
    {
     "name": "stderr",
     "output_type": "stream",
     "text": []
    },
    {
     "name": "stdout",
     "output_type": "stream",
     "text": [
      "1106 1106\n",
      "1107 1107\n",
      "1108 1108\n",
      "1109 1109\n",
      "1110 1110\n"
     ]
    },
    {
     "name": "stderr",
     "output_type": "stream",
     "text": []
    },
    {
     "name": "stdout",
     "output_type": "stream",
     "text": [
      "1111 1111\n",
      "1112 1112\n",
      "1113 1113\n",
      "1114 1114\n",
      "1115 1115\n"
     ]
    },
    {
     "name": "stderr",
     "output_type": "stream",
     "text": []
    },
    {
     "name": "stdout",
     "output_type": "stream",
     "text": [
      "1116 1116\n",
      "1117 1117\n",
      "1118 1118\n",
      "1119 1119\n",
      "1120 1120\n"
     ]
    },
    {
     "name": "stderr",
     "output_type": "stream",
     "text": []
    },
    {
     "name": "stdout",
     "output_type": "stream",
     "text": [
      "1121 1121\n",
      "1122 1122\n",
      "1123 1123\n",
      "1124 1124\n",
      "1125 1125\n"
     ]
    },
    {
     "name": "stderr",
     "output_type": "stream",
     "text": []
    },
    {
     "name": "stdout",
     "output_type": "stream",
     "text": [
      "1126 1126\n",
      "1127 1127\n",
      "1128 1128\n",
      "1129 1129\n",
      "1130 1130\n"
     ]
    },
    {
     "name": "stderr",
     "output_type": "stream",
     "text": []
    },
    {
     "name": "stdout",
     "output_type": "stream",
     "text": [
      "1131 1131\n",
      "1132 1132\n",
      "1133 1133\n",
      "1134 1134\n",
      "1135 1135\n"
     ]
    },
    {
     "name": "stderr",
     "output_type": "stream",
     "text": []
    },
    {
     "name": "stdout",
     "output_type": "stream",
     "text": [
      "1136 1136\n",
      "1137 1137\n",
      "1138 1138\n",
      "1139 1139\n",
      "1140 1140\n"
     ]
    },
    {
     "name": "stderr",
     "output_type": "stream",
     "text": []
    },
    {
     "name": "stdout",
     "output_type": "stream",
     "text": [
      "1141 1141\n",
      "1142 1142\n",
      "1143 1143\n",
      "1144 1144\n",
      "1145 1145\n"
     ]
    },
    {
     "name": "stderr",
     "output_type": "stream",
     "text": []
    },
    {
     "name": "stdout",
     "output_type": "stream",
     "text": [
      "1146 1146\n",
      "1147 1147\n",
      "1148 1148\n",
      "1149 1149\n",
      "1150 1150\n"
     ]
    },
    {
     "name": "stderr",
     "output_type": "stream",
     "text": []
    },
    {
     "name": "stdout",
     "output_type": "stream",
     "text": [
      "1151 1151\n",
      "1152 1152\n",
      "1153 1153\n",
      "1154 1154\n",
      "1155 1155\n"
     ]
    },
    {
     "name": "stderr",
     "output_type": "stream",
     "text": []
    },
    {
     "name": "stdout",
     "output_type": "stream",
     "text": [
      "1156 1156\n",
      "1157 1157\n",
      "1158 1158\n",
      "1159 1159\n",
      "1160 1160\n"
     ]
    },
    {
     "name": "stderr",
     "output_type": "stream",
     "text": []
    },
    {
     "name": "stdout",
     "output_type": "stream",
     "text": [
      "1161 1161\n",
      "1162 1162\n",
      "1163 1163\n",
      "1164 1164\n",
      "1165 1165\n"
     ]
    },
    {
     "name": "stderr",
     "output_type": "stream",
     "text": []
    },
    {
     "name": "stdout",
     "output_type": "stream",
     "text": [
      "1166 1166\n",
      "1167 1167\n",
      "1168 1168\n",
      "1169 1169\n",
      "1170 1170\n"
     ]
    },
    {
     "name": "stderr",
     "output_type": "stream",
     "text": []
    },
    {
     "name": "stdout",
     "output_type": "stream",
     "text": [
      "1171 1171\n",
      "1172 1172\n",
      "1173 1173\n",
      "1174 1174\n",
      "1175 1175\n"
     ]
    },
    {
     "name": "stderr",
     "output_type": "stream",
     "text": []
    },
    {
     "name": "stdout",
     "output_type": "stream",
     "text": [
      "1176 1176\n",
      "1177 1177\n",
      "1178 1178\n",
      "1179 1179\n",
      "1180 1180\n"
     ]
    },
    {
     "name": "stderr",
     "output_type": "stream",
     "text": []
    },
    {
     "name": "stdout",
     "output_type": "stream",
     "text": [
      "1181 1181\n",
      "1182 1182\n",
      "1183 1183\n",
      "1184 1184\n",
      "1185 1185\n"
     ]
    },
    {
     "name": "stderr",
     "output_type": "stream",
     "text": []
    },
    {
     "name": "stdout",
     "output_type": "stream",
     "text": [
      "1186 1186\n",
      "1187 1187\n",
      "1188 1188\n",
      "1189 1189\n",
      "1190 1190\n"
     ]
    },
    {
     "name": "stderr",
     "output_type": "stream",
     "text": []
    },
    {
     "name": "stdout",
     "output_type": "stream",
     "text": [
      "1191 1191\n",
      "1192 1192\n",
      "1193 1193\n",
      "1194 1194\n",
      "1195 1195\n"
     ]
    },
    {
     "name": "stderr",
     "output_type": "stream",
     "text": [
      "100%|██████████| 1200/1200 [00:55<00:00, 21.68it/s]"
     ]
    },
    {
     "name": "stdout",
     "output_type": "stream",
     "text": [
      "1196 1196\n",
      "1197 1197\n",
      "1198 1198\n",
      "1199 1199\n",
      "1200 1200\n"
     ]
    },
    {
     "name": "stderr",
     "output_type": "stream",
     "text": [
      "\n"
     ]
    },
    {
     "data": {
      "text/html": [
       "<pre style=\"white-space:pre;overflow-x:auto;line-height:normal;font-family:Menlo,'DejaVu Sans Mono',consolas,'Courier New',monospace\">┏━━━━━━━━━━━━━━━━━━━━━━━━━━━┳━━━━━━━━━━━━━━━━━━━━━━━━━━━┓\n",
       "┃<span style=\"font-weight: bold\">      Validate metric      </span>┃<span style=\"font-weight: bold\">       DataLoader 0        </span>┃\n",
       "┡━━━━━━━━━━━━━━━━━━━━━━━━━━━╇━━━━━━━━━━━━━━━━━━━━━━━━━━━┩\n",
       "│<span style=\"color: #008080; text-decoration-color: #008080\">        psnr/coarse        </span>│<span style=\"color: #800080; text-decoration-color: #800080\">            0.0            </span>│\n",
       "│<span style=\"color: #008080; text-decoration-color: #008080\">         psnr/fine         </span>│<span style=\"color: #800080; text-decoration-color: #800080\">            0.0            </span>│\n",
       "│<span style=\"color: #008080; text-decoration-color: #008080\">   val/loss_depth_coarse   </span>│<span style=\"color: #800080; text-decoration-color: #800080\">            0.0            </span>│\n",
       "│<span style=\"color: #008080; text-decoration-color: #008080\">    val/loss_depth_fine    </span>│<span style=\"color: #800080; text-decoration-color: #800080\">            0.0            </span>│\n",
       "│<span style=\"color: #008080; text-decoration-color: #008080\">      val/rgb_coarse       </span>│<span style=\"color: #800080; text-decoration-color: #800080\">            0.0            </span>│\n",
       "│<span style=\"color: #008080; text-decoration-color: #008080\">       val/rgb_fine        </span>│<span style=\"color: #800080; text-decoration-color: #800080\">            0.0            </span>│\n",
       "└───────────────────────────┴───────────────────────────┘\n",
       "</pre>\n"
      ],
      "text/plain": [
       "┏━━━━━━━━━━━━━━━━━━━━━━━━━━━┳━━━━━━━━━━━━━━━━━━━━━━━━━━━┓\n",
       "┃\u001b[1m \u001b[0m\u001b[1m     Validate metric     \u001b[0m\u001b[1m \u001b[0m┃\u001b[1m \u001b[0m\u001b[1m      DataLoader 0       \u001b[0m\u001b[1m \u001b[0m┃\n",
       "┡━━━━━━━━━━━━━━━━━━━━━━━━━━━╇━━━━━━━━━━━━━━━━━━━━━━━━━━━┩\n",
       "│\u001b[36m \u001b[0m\u001b[36m       psnr/coarse       \u001b[0m\u001b[36m \u001b[0m│\u001b[35m \u001b[0m\u001b[35m           0.0           \u001b[0m\u001b[35m \u001b[0m│\n",
       "│\u001b[36m \u001b[0m\u001b[36m        psnr/fine        \u001b[0m\u001b[36m \u001b[0m│\u001b[35m \u001b[0m\u001b[35m           0.0           \u001b[0m\u001b[35m \u001b[0m│\n",
       "│\u001b[36m \u001b[0m\u001b[36m  val/loss_depth_coarse  \u001b[0m\u001b[36m \u001b[0m│\u001b[35m \u001b[0m\u001b[35m           0.0           \u001b[0m\u001b[35m \u001b[0m│\n",
       "│\u001b[36m \u001b[0m\u001b[36m   val/loss_depth_fine   \u001b[0m\u001b[36m \u001b[0m│\u001b[35m \u001b[0m\u001b[35m           0.0           \u001b[0m\u001b[35m \u001b[0m│\n",
       "│\u001b[36m \u001b[0m\u001b[36m     val/rgb_coarse      \u001b[0m\u001b[36m \u001b[0m│\u001b[35m \u001b[0m\u001b[35m           0.0           \u001b[0m\u001b[35m \u001b[0m│\n",
       "│\u001b[36m \u001b[0m\u001b[36m      val/rgb_fine       \u001b[0m\u001b[36m \u001b[0m│\u001b[35m \u001b[0m\u001b[35m           0.0           \u001b[0m\u001b[35m \u001b[0m│\n",
       "└───────────────────────────┴───────────────────────────┘\n"
      ]
     },
     "metadata": {},
     "output_type": "display_data"
    },
    {
     "name": "stderr",
     "output_type": "stream",
     "text": [
      "100%|██████████| 1/1 [00:59<00:00, 59.29s/it]"
     ]
    },
    {
     "name": "stdout",
     "output_type": "stream",
     "text": [
      "end\n"
     ]
    },
    {
     "name": "stderr",
     "output_type": "stream",
     "text": [
      "\n"
     ]
    }
   ],
   "source": [
    "# -------------------------------- trainer ---------------------------------------\n",
    "trainer = pl.Trainer(\n",
    "    accelerator=\"gpu\" if device==\"cuda\" else \"cpu\", \n",
    "    #devices=2,\n",
    "    #strategy = \"ddp_notebook\",\n",
    "    max_epochs=args.max_epochs,\n",
    "    check_val_every_n_epoch=1, \n",
    "    num_sanity_val_steps=0,\n",
    "    )\n",
    "\n",
    "\n",
    "ModelSummary(volrecon, max_depth=1)\n",
    "\n",
    "# -------------------------------- train or/and testing --------------------------------\n",
    "if not args.extract_geometry:\n",
    "    if args.val_only:\n",
    "        print(\"[only validation]\")\n",
    "        trainer.validate(volrecon, dataloader_train)\n",
    "    else:\n",
    "        print(\"[start training]\")\n",
    "        trainer.fit(volrecon, dataloader_train, dataloader_val)\n",
    "else:\n",
    "    for dataloader_test1 in tqdm(dataloader_test):\n",
    "        trainer.validate(volrecon, dataloader_test1)\n",
    "\n",
    "print(\"end\")"
   ]
  },
  {
   "cell_type": "code",
   "execution_count": 2,
   "metadata": {},
   "outputs": [],
   "source": [
    "import numpy as np"
   ]
  },
  {
   "cell_type": "code",
   "execution_count": 3,
   "metadata": {},
   "outputs": [
    {
     "data": {
      "text/plain": [
       "251.86102"
      ]
     },
     "execution_count": 3,
     "metadata": {},
     "output_type": "execute_result"
    }
   ],
   "source": [
    "item = dataset_tmp[0]\n",
    "ref_img = item['ref_img']\n",
    "source_imgs = item['source_imgs']\n",
    "meta = item['meta']\n",
    "np.linalg.norm(ref_img-source_imgs[0].numpy(force=True))"
   ]
  },
  {
   "cell_type": "code",
   "execution_count": 4,
   "metadata": {},
   "outputs": [
    {
     "data": {
      "text/plain": [
       "5"
      ]
     },
     "execution_count": 4,
     "metadata": {},
     "output_type": "execute_result"
    }
   ],
   "source": [
    "len(source_imgs)"
   ]
  },
  {
   "cell_type": "code",
   "execution_count": 6,
   "metadata": {},
   "outputs": [],
   "source": [
    "import matplotlib.pyplot as plt\n",
    "import numpy as np\n",
    "from PIL import Image"
   ]
  },
  {
   "cell_type": "code",
   "execution_count": 7,
   "metadata": {},
   "outputs": [],
   "source": [
    "img1 = np.asarray(Image.open('outputs_g_test/rgb/scan1/00000029.jpg'))\n",
    "img2 = np.asarray(Image.open('outputs_g_test2/rgb/scan1/00000029.jpg'))"
   ]
  },
  {
   "cell_type": "code",
   "execution_count": 8,
   "metadata": {},
   "outputs": [
    {
     "data": {
      "text/plain": [
       "<matplotlib.image.AxesImage at 0x7fb1e0520250>"
      ]
     },
     "execution_count": 8,
     "metadata": {},
     "output_type": "execute_result"
    },
    {
     "data": {
      "image/png": "[encoded data removed]",
      "text/plain": [
       "<Figure size 640x480 with 1 Axes>"
      ]
     },
     "metadata": {},
     "output_type": "display_data"
    }
   ],
   "source": [
    "plt.imshow(img1)"
   ]
  },
  {
   "cell_type": "code",
   "execution_count": 9,
   "metadata": {},
   "outputs": [
    {
     "data": {
      "text/plain": [
       "<matplotlib.image.AxesImage at 0x7fb1e04513a0>"
      ]
     },
     "execution_count": 9,
     "metadata": {},
     "output_type": "execute_result"
    },
    {
     "data": {
      "image/png": "[encoded data removed]",
      "text/plain": [
       "<Figure size 640x480 with 1 Axes>"
      ]
     },
     "metadata": {},
     "output_type": "display_data"
    }
   ],
   "source": [
    "plt.imshow(img2)"
   ]
  },
  {
   "cell_type": "code",
   "execution_count": null,
   "metadata": {},
   "outputs": [],
   "source": []
  }
 ],
 "metadata": {
  "kernelspec": {
   "display_name": "volrecon",
   "language": "python",
   "name": "python3"
  },
  "language_info": {
   "codemirror_mode": {
    "name": "ipython",
    "version": 3
   },
   "file_extension": ".py",
   "mimetype": "text/x-python",
   "name": "python",
   "nbconvert_exporter": "python",
   "pygments_lexer": "ipython3",
   "version": "3.8.16"
  },
  "orig_nbformat": 4
 },
 "nbformat": 4,
 "nbformat_minor": 2
}
